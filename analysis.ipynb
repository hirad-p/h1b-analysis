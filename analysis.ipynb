{
 "cells": [
  {
   "cell_type": "code",
   "execution_count": 114,
   "metadata": {},
   "outputs": [
    {
     "data": {
      "text/html": [
       "<script>requirejs.config({paths: { 'plotly': ['https://cdn.plot.ly/plotly-latest.min']},});if(!window.Plotly) {{require(['plotly'],function(plotly) {window.Plotly=plotly;});}}</script>"
      ],
      "text/vnd.plotly.v1+html": [
       "<script>requirejs.config({paths: { 'plotly': ['https://cdn.plot.ly/plotly-latest.min']},});if(!window.Plotly) {{require(['plotly'],function(plotly) {window.Plotly=plotly;});}}</script>"
      ]
     },
     "metadata": {},
     "output_type": "display_data"
    }
   ],
   "source": [
    "# Put all the imports here\n",
    "import folium\n",
    "import pandas as pd\n",
    "import plotly as ply\n",
    "import plotly.graph_objs as go\n",
    "\n",
    "from plotly.offline import init_notebook_mode, plot, iplot\n",
    "init_notebook_mode(connected=True)"
   ]
  },
  {
   "cell_type": "code",
   "execution_count": 99,
   "metadata": {},
   "outputs": [],
   "source": [
    "# Load data\n",
    "h1b_frame = pd.read_csv('./data/h1b.csv') # dataset to large, please download from README.md\n",
    "geo_frame = pd.read_csv('./data/state_geocodes.csv')"
   ]
  },
  {
   "cell_type": "code",
   "execution_count": 7,
   "metadata": {},
   "outputs": [],
   "source": [
    "#### Heat Map of Applications by State ######\n",
    "states = geo_frame['name'].tolist()\n",
    "states_frame = geo_frame.drop('fips', axis=1)\n",
    "states_frame['count'] = 0\n",
    "states_frame = states_frame.set_index('name')\n",
    "\n",
    "top_cities = h1b_frame['WORKSITE'].value_counts()[:100]\n",
    "\n",
    "for worksite, count in top_cities.items():\n",
    "    state = worksite.split(',')[1].strip().lower().title()\n",
    "    states_frame.at[state, 'count'] = count\n",
    "states_frame = states_frame[states_frame['count'] != 0]\n",
    "\n",
    "# plot\n",
    "map_data = './data/map/us_states.json'\n",
    "m = folium.Map(location=[37, -102], zoom_start=5)\n",
    "\n",
    "m.choropleth(\n",
    " geo_data=map_data,\n",
    " name='2011-2016 H-1B Visa Applications',\n",
    " data=states_frame,\n",
    " columns=['code', 'count'],\n",
    " key_on='feature.id',\n",
    " fill_color='YlGn',\n",
    " fill_opacity=0.7,\n",
    " line_opacity=0.2,\n",
    " legend_name='# of Applications'\n",
    ")\n",
    "\n",
    "folium.LayerControl().add_to(m)\n",
    "m.save('./graphs/applications_by_states.html')"
   ]
  },
  {
   "cell_type": "code",
   "execution_count": 151,
   "metadata": {},
   "outputs": [
    {
     "data": {
      "application/vnd.plotly.v1+json": {
       "data": [
        {
         "name": "Certified",
         "text": [
          307936,
          352668,
          382951,
          455144,
          547278,
          569646
         ],
         "textposition": "auto",
         "type": "bar",
         "x": [
          2011,
          2012,
          2013,
          2014,
          2015,
          2016
         ],
         "y": [
          307936,
          352668,
          382951,
          455144,
          547278,
          569646
         ]
        },
        {
         "name": "Non-Certified",
         "text": [
          50831,
          62939,
          59163,
          64283,
          71449,
          78157
         ],
         "textposition": "auto",
         "type": "bar",
         "x": [
          2011,
          2012,
          2013,
          2014,
          2015,
          2016
         ],
         "y": [
          50831,
          62939,
          59163,
          64283,
          71449,
          78157
         ]
        }
       ],
       "layout": {
        "barmode": "stack"
       }
      },
      "text/html": [
       "<div id=\"5749875d-5124-424b-b736-86b952968c26\" style=\"height: 525px; width: 100%;\" class=\"plotly-graph-div\"></div><script type=\"text/javascript\">require([\"plotly\"], function(Plotly) { window.PLOTLYENV=window.PLOTLYENV || {};window.PLOTLYENV.BASE_URL=\"https://plot.ly\";Plotly.newPlot(\"5749875d-5124-424b-b736-86b952968c26\", [{\"type\": \"bar\", \"x\": [2011.0, 2012.0, 2013.0, 2014.0, 2015.0, 2016.0], \"y\": [307936, 352668, 382951, 455144, 547278, 569646], \"name\": \"Certified\", \"text\": [307936, 352668, 382951, 455144, 547278, 569646], \"textposition\": \"auto\"}, {\"type\": \"bar\", \"x\": [2011.0, 2012.0, 2013.0, 2014.0, 2015.0, 2016.0], \"y\": [50831, 62939, 59163, 64283, 71449, 78157], \"name\": \"Non-Certified\", \"text\": [50831, 62939, 59163, 64283, 71449, 78157], \"textposition\": \"auto\"}], {\"barmode\": \"stack\"}, {\"showLink\": true, \"linkText\": \"Export to plot.ly\"})});</script>"
      ],
      "text/vnd.plotly.v1+html": [
       "<div id=\"5749875d-5124-424b-b736-86b952968c26\" style=\"height: 525px; width: 100%;\" class=\"plotly-graph-div\"></div><script type=\"text/javascript\">require([\"plotly\"], function(Plotly) { window.PLOTLYENV=window.PLOTLYENV || {};window.PLOTLYENV.BASE_URL=\"https://plot.ly\";Plotly.newPlot(\"5749875d-5124-424b-b736-86b952968c26\", [{\"type\": \"bar\", \"x\": [2011.0, 2012.0, 2013.0, 2014.0, 2015.0, 2016.0], \"y\": [307936, 352668, 382951, 455144, 547278, 569646], \"name\": \"Certified\", \"text\": [307936, 352668, 382951, 455144, 547278, 569646], \"textposition\": \"auto\"}, {\"type\": \"bar\", \"x\": [2011.0, 2012.0, 2013.0, 2014.0, 2015.0, 2016.0], \"y\": [50831, 62939, 59163, 64283, 71449, 78157], \"name\": \"Non-Certified\", \"text\": [50831, 62939, 59163, 64283, 71449, 78157], \"textposition\": \"auto\"}], {\"barmode\": \"stack\"}, {\"showLink\": true, \"linkText\": \"Export to plot.ly\"})});</script>"
      ]
     },
     "metadata": {},
     "output_type": "display_data"
    }
   ],
   "source": [
    "# Histogram for number of applications per year\n",
    "years_frame_non_cert = h1b_frame.loc[h1b_frame['CASE_STATUS'] != 'CERTIFIED'].groupby('YEAR').count()\n",
    "X = years_frame_non_cert.index.values\n",
    "Y = years_frame_non_cert[['Unnamed: 0']].values.flatten()\n",
    "trace_non_cert = go.Bar(x=X, \n",
    "                        y=Y, \n",
    "                        name=\"Non-Certified\",\n",
    "                        text=Y, \n",
    "                        textposition = 'auto')\n",
    "\n",
    "# Histogram for number of applications per year that are 'CERTIFIED', \n",
    "# which means 'meeting the minumum requirement'.\n",
    "years_frame_cert = h1b_frame.loc[h1b_frame['CASE_STATUS'] == 'CERTIFIED'].groupby('YEAR').count()\n",
    "X = years_frame_cert.index.values\n",
    "Y = years_frame_cert[['Unnamed: 0']].values.flatten()\n",
    "trace_cert = go.Bar(x=X, \n",
    "                    y=Y, \n",
    "                    name=\"Certified\", \n",
    "                    text=Y, \n",
    "                    textposition = 'auto')\n",
    "\n",
    "data = [trace_cert, trace_non_cert]\n",
    "layout = go.Layout(\n",
    "    barmode='stack'\n",
    ")\n",
    "fig = go.Figure(data=data, layout=layout)\n",
    "iplot(fig, filename='stacked-bar')"
   ]
  },
  {
   "cell_type": "code",
   "execution_count": null,
   "metadata": {},
   "outputs": [],
   "source": []
  },
  {
   "cell_type": "code",
   "execution_count": null,
   "metadata": {},
   "outputs": [],
   "source": []
  },
  {
   "cell_type": "code",
   "execution_count": null,
   "metadata": {},
   "outputs": [],
   "source": []
  }
 ],
 "metadata": {
  "kernelspec": {
   "display_name": "Python 3",
   "language": "python",
   "name": "python3"
  },
  "language_info": {
   "codemirror_mode": {
    "name": "ipython",
    "version": 3
   },
   "file_extension": ".py",
   "mimetype": "text/x-python",
   "name": "python",
   "nbconvert_exporter": "python",
   "pygments_lexer": "ipython3",
   "version": "3.6.3"
  }
 },
 "nbformat": 4,
 "nbformat_minor": 2
}
