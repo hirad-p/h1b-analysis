{
 "cells": [
  {
   "cell_type": "markdown",
   "metadata": {},
   "source": [
    "# H-1B Visa Applications"
   ]
  },
  {
   "cell_type": "markdown",
   "metadata": {},
   "source": [
    "Immigration is a hot and controversial topic in today's political culture. Because of this, we decided to conduct some analysis on the numbers and find out some truths. \n",
    "\n",
    "Mainly, the focus of this analysis is to answer the following question:\n",
    "\n",
    "1. Geographical Analysis:\n",
    "    * What are the states with the most applicants? \n",
    "  \n",
    "2. Chronological Analysis: \n",
    "    * What is the year-by-year breakdown of applications? \n",
    "    \n",
    "3. Wage Analysis: \n",
    "    * What is the wage distribution between the different states?"
   ]
  },
  {
   "cell_type": "markdown",
   "metadata": {},
   "source": [
    "### Setup "
   ]
  },
  {
   "cell_type": "markdown",
   "metadata": {},
   "source": [
    "Here, we include all the 3rd party dependencies that we need for our project."
   ]
  },
  {
   "cell_type": "code",
   "execution_count": 4,
   "metadata": {},
   "outputs": [
    {
     "data": {
      "text/html": [
       "<script>requirejs.config({paths: { 'plotly': ['https://cdn.plot.ly/plotly-latest.min']},});if(!window.Plotly) {{require(['plotly'],function(plotly) {window.Plotly=plotly;});}}</script>"
      ],
      "text/vnd.plotly.v1+html": [
       "<script>requirejs.config({paths: { 'plotly': ['https://cdn.plot.ly/plotly-latest.min']},});if(!window.Plotly) {{require(['plotly'],function(plotly) {window.Plotly=plotly;});}}</script>"
      ]
     },
     "metadata": {},
     "output_type": "display_data"
    }
   ],
   "source": [
    "# Put all the imports here\n",
    "import folium\n",
    "import numpy as np\n",
    "import pandas as pd\n",
    "import plotly as ply\n",
    "import plotly.plotly as py\n",
    "import plotly.figure_factory as ff\n",
    "import plotly.graph_objs as go\n",
    "\n",
    "from geopy.geocoders import Nominatim\n",
    "from matplotlib import pyplot as plt\n",
    "\n",
    "# Make plotly work in offline mode\n",
    "from plotly.offline import init_notebook_mode, plot, iplot\n",
    "init_notebook_mode(connected=True)"
   ]
  },
  {
   "cell_type": "markdown",
   "metadata": {},
   "source": [
    "Read the relevant datasets. The dataset that are common to all the questions here is the H-1B dataset located in `./data/h1b.csv`. You can download this dataset from this [link](https://www.kaggle.com/nsharan/h-1b-visa/data)."
   ]
  },
  {
   "cell_type": "code",
   "execution_count": 5,
   "metadata": {},
   "outputs": [],
   "source": [
    "# Load data\n",
    "h1b_frame = pd.read_csv('./data/h1b.csv') # dataset to large, please download from README.md"
   ]
  },
  {
   "cell_type": "markdown",
   "metadata": {},
   "source": [
    "### Geographical Analysis"
   ]
  },
  {
   "cell_type": "markdown",
   "metadata": {},
   "source": [
    " What are the states with the most applicants?**\n",
    " \n",
    "In this section, we'll need another datasets that holds the geo-code and FIPS for each state. This data set is located in `./data/state_geocodes.csv`. "
   ]
  },
  {
   "cell_type": "code",
   "execution_count": 7,
   "metadata": {},
   "outputs": [],
   "source": [
    "geo_frame = pd.read_csv('./data/state_geocodes.csv')"
   ]
  },
  {
   "cell_type": "markdown",
   "metadata": {},
   "source": [
    "Here, we collect some information and drop the irrelevant parts. We also add a column with the name of `count` and initialize all the values to 0. This column will store each application count. We also switch the indexing of the Dataframe to use the states name such as 'New York' or 'California' for easier access. \n",
    "\n",
    "The `top_cities` variable holds the top 100 cities. We then iterate through this list and extract the state name. We then increment the count in the `state_frame`. After doing so, we drop the states that have 0 applications. \n",
    "\n",
    "Please note that this particular code only looks at the top 100 cities and then splits it up by states. "
   ]
  },
  {
   "cell_type": "code",
   "execution_count": null,
   "metadata": {
    "collapsed": true
   },
   "outputs": [],
   "source": [
    "#### Heat Map of Applications by State ######\n",
    "states_frame = geo_frame.drop('fips', axis=1)\n",
    "states_frame['count'] = 0\n",
    "states_frame = states_frame.set_index('name')\n",
    "\n",
    "t = h1b_frame.loc[h1b_frame['CASE_STATUS'] == 'CERTIFIED']['WORKSITE'].value_counts()\n",
    "    \n",
    "for worksite, count in t.items():\n",
    "    locations = worksite.split(',')\n",
    "    state = locations[len(locations)-1].strip().lower().title()\n",
    "    if state in states_frame.index:\n",
    "        states_frame.at[state, 'count'] += count\n",
    "states_frame = states_frame[states_frame['count'] != 0]"
   ]
  },
  {
   "cell_type": "markdown",
   "metadata": {},
   "source": [
    "Now that `states_frame` contains the desired dataframe, we are ready to plot. "
   ]
  },
  {
   "cell_type": "code",
   "execution_count": null,
   "metadata": {
    "collapsed": true
   },
   "outputs": [],
   "source": [
    "# plot\n",
    "map_data = './data/map/us_states.json'\n",
    "m = folium.Map(location=[37, -102], zoom_start=3)\n",
    "\n",
    "m.choropleth(\n",
    " geo_data=map_data,\n",
    " name='2011-2016 H-1B Visa Applications',\n",
    " data=states_frame,\n",
    " columns=['code', 'count'],\n",
    " key_on='feature.id',\n",
    " fill_color='YlGn',\n",
    " fill_opacity=0.7,\n",
    " line_opacity=0.2,\n",
    " legend_name='# of Applications'\n",
    ")\n",
    "m"
   ]
  },
  {
   "cell_type": "markdown",
   "metadata": {},
   "source": [
    "---\n",
    "**What are the states with the most certified applicants?**\n",
    "\n",
    "Now, let's take a deeper look and analyze the whole dataset. First, let's grab all the date that have `CERTIFIED` case status. This means that the company and the individual who applied for the H-1B have met all the requirements. \n",
    "\n",
    "Alongside that, let's create a new dataframe containing state information."
   ]
  },
  {
   "cell_type": "code",
   "execution_count": 8,
   "metadata": {},
   "outputs": [],
   "source": [
    "# Certified H1Bs by State\n",
    "t = h1b_frame.loc[h1b_frame['CASE_STATUS'] == 'CERTIFIED']['WORKSITE'].value_counts()\n",
    "\n",
    "states = geo_frame['name'].tolist()\n",
    "states_frame = geo_frame.drop('fips', axis=1)\n",
    "states_frame['count'] = 0\n",
    "states_frame = states_frame.set_index('name')\n",
    "\n",
    "for worksite, count in t.items():\n",
    "    state = worksite.split(',')[1].strip().lower().title()\n",
    "    if state in states_frame.index.values:\n",
    "        states_frame.at[state, 'count'] += count\n",
    "\n",
    "        \n",
    "states_frame = states_frame.sort_values('count')\n",
    "\n",
    "X = states_frame[['code']].values.flatten()\n",
    "Y = states_frame[['count']].values.flatten()"
   ]
  },
  {
   "cell_type": "markdown",
   "metadata": {},
   "source": [
    "After attaining the proper X and Y, we are ready to plot. "
   ]
  },
  {
   "cell_type": "code",
   "execution_count": 9,
   "metadata": {},
   "outputs": [
    {
     "data": {
      "application/vnd.plotly.v1+json": {
       "data": [
        {
         "name": "State",
         "text": [
          625,
          803,
          1066,
          1615,
          1676,
          2416,
          2455,
          2951,
          3471,
          3498,
          3529,
          4683,
          6038,
          7914,
          8578,
          8666,
          9077,
          9731,
          10676,
          11129,
          11249,
          11308,
          12040,
          13334,
          14488,
          15907,
          19262,
          20835,
          23830,
          25757,
          27078,
          29271,
          30199,
          37075,
          43855,
          44883,
          47891,
          68507,
          70519,
          72506,
          78441,
          90085,
          91582,
          91728,
          98123,
          100202,
          142306,
          191150,
          249955,
          254951,
          482904
         ],
         "textposition": "auto",
         "type": "bar",
         "x": [
          "WY",
          "MT",
          "AK",
          "SD",
          "VT",
          "WV",
          "ND",
          "HI",
          "ID",
          "ME",
          "MS",
          "NM",
          "NV",
          "NE",
          "AL",
          "NH",
          "OK",
          "LA",
          "RI",
          "SC",
          "KY",
          "UT",
          "KS",
          "AR",
          "IA",
          "DE",
          "DC",
          "OR",
          "TN",
          "IN",
          "CO",
          "WI",
          "MO",
          "AZ",
          "MN",
          "CT",
          "MD",
          "OH",
          "NC",
          "MI",
          "VA",
          "WA",
          "GA",
          "FL",
          "PA",
          "MA",
          "IL",
          "NJ",
          "NY",
          "TX",
          "CA"
         ],
         "y": [
          625,
          803,
          1066,
          1615,
          1676,
          2416,
          2455,
          2951,
          3471,
          3498,
          3529,
          4683,
          6038,
          7914,
          8578,
          8666,
          9077,
          9731,
          10676,
          11129,
          11249,
          11308,
          12040,
          13334,
          14488,
          15907,
          19262,
          20835,
          23830,
          25757,
          27078,
          29271,
          30199,
          37075,
          43855,
          44883,
          47891,
          68507,
          70519,
          72506,
          78441,
          90085,
          91582,
          91728,
          98123,
          100202,
          142306,
          191150,
          249955,
          254951,
          482904
         ]
        }
       ],
       "layout": {
        "barmode": "stack",
        "title": "H1Bs by State"
       }
      },
      "text/html": [
       "<div id=\"22cf09fc-de1f-4f20-951d-391adee60b5f\" style=\"height: 525px; width: 100%;\" class=\"plotly-graph-div\"></div><script type=\"text/javascript\">require([\"plotly\"], function(Plotly) { window.PLOTLYENV=window.PLOTLYENV || {};window.PLOTLYENV.BASE_URL=\"https://plot.ly\";Plotly.newPlot(\"22cf09fc-de1f-4f20-951d-391adee60b5f\", [{\"type\": \"bar\", \"x\": [\"WY\", \"MT\", \"AK\", \"SD\", \"VT\", \"WV\", \"ND\", \"HI\", \"ID\", \"ME\", \"MS\", \"NM\", \"NV\", \"NE\", \"AL\", \"NH\", \"OK\", \"LA\", \"RI\", \"SC\", \"KY\", \"UT\", \"KS\", \"AR\", \"IA\", \"DE\", \"DC\", \"OR\", \"TN\", \"IN\", \"CO\", \"WI\", \"MO\", \"AZ\", \"MN\", \"CT\", \"MD\", \"OH\", \"NC\", \"MI\", \"VA\", \"WA\", \"GA\", \"FL\", \"PA\", \"MA\", \"IL\", \"NJ\", \"NY\", \"TX\", \"CA\"], \"y\": [625, 803, 1066, 1615, 1676, 2416, 2455, 2951, 3471, 3498, 3529, 4683, 6038, 7914, 8578, 8666, 9077, 9731, 10676, 11129, 11249, 11308, 12040, 13334, 14488, 15907, 19262, 20835, 23830, 25757, 27078, 29271, 30199, 37075, 43855, 44883, 47891, 68507, 70519, 72506, 78441, 90085, 91582, 91728, 98123, 100202, 142306, 191150, 249955, 254951, 482904], \"name\": \"State\", \"text\": [625, 803, 1066, 1615, 1676, 2416, 2455, 2951, 3471, 3498, 3529, 4683, 6038, 7914, 8578, 8666, 9077, 9731, 10676, 11129, 11249, 11308, 12040, 13334, 14488, 15907, 19262, 20835, 23830, 25757, 27078, 29271, 30199, 37075, 43855, 44883, 47891, 68507, 70519, 72506, 78441, 90085, 91582, 91728, 98123, 100202, 142306, 191150, 249955, 254951, 482904], \"textposition\": \"auto\"}], {\"title\": \"H1Bs by State\", \"barmode\": \"stack\"}, {\"showLink\": true, \"linkText\": \"Export to plot.ly\"})});</script>"
      ],
      "text/vnd.plotly.v1+html": [
       "<div id=\"22cf09fc-de1f-4f20-951d-391adee60b5f\" style=\"height: 525px; width: 100%;\" class=\"plotly-graph-div\"></div><script type=\"text/javascript\">require([\"plotly\"], function(Plotly) { window.PLOTLYENV=window.PLOTLYENV || {};window.PLOTLYENV.BASE_URL=\"https://plot.ly\";Plotly.newPlot(\"22cf09fc-de1f-4f20-951d-391adee60b5f\", [{\"type\": \"bar\", \"x\": [\"WY\", \"MT\", \"AK\", \"SD\", \"VT\", \"WV\", \"ND\", \"HI\", \"ID\", \"ME\", \"MS\", \"NM\", \"NV\", \"NE\", \"AL\", \"NH\", \"OK\", \"LA\", \"RI\", \"SC\", \"KY\", \"UT\", \"KS\", \"AR\", \"IA\", \"DE\", \"DC\", \"OR\", \"TN\", \"IN\", \"CO\", \"WI\", \"MO\", \"AZ\", \"MN\", \"CT\", \"MD\", \"OH\", \"NC\", \"MI\", \"VA\", \"WA\", \"GA\", \"FL\", \"PA\", \"MA\", \"IL\", \"NJ\", \"NY\", \"TX\", \"CA\"], \"y\": [625, 803, 1066, 1615, 1676, 2416, 2455, 2951, 3471, 3498, 3529, 4683, 6038, 7914, 8578, 8666, 9077, 9731, 10676, 11129, 11249, 11308, 12040, 13334, 14488, 15907, 19262, 20835, 23830, 25757, 27078, 29271, 30199, 37075, 43855, 44883, 47891, 68507, 70519, 72506, 78441, 90085, 91582, 91728, 98123, 100202, 142306, 191150, 249955, 254951, 482904], \"name\": \"State\", \"text\": [625, 803, 1066, 1615, 1676, 2416, 2455, 2951, 3471, 3498, 3529, 4683, 6038, 7914, 8578, 8666, 9077, 9731, 10676, 11129, 11249, 11308, 12040, 13334, 14488, 15907, 19262, 20835, 23830, 25757, 27078, 29271, 30199, 37075, 43855, 44883, 47891, 68507, 70519, 72506, 78441, 90085, 91582, 91728, 98123, 100202, 142306, 191150, 249955, 254951, 482904], \"textposition\": \"auto\"}], {\"title\": \"H1Bs by State\", \"barmode\": \"stack\"}, {\"showLink\": true, \"linkText\": \"Export to plot.ly\"})});</script>"
      ]
     },
     "metadata": {},
     "output_type": "display_data"
    }
   ],
   "source": [
    "trace_states = go.Bar(\n",
    "    x=X, \n",
    "    y=Y, \n",
    "    name=\"State\", \n",
    "    text=Y, \n",
    "    textposition = 'auto')\n",
    "\n",
    "data = [trace_states]\n",
    "layout = go.Layout(\n",
    "    title=\"H1Bs by State\",\n",
    "    barmode='stack'  \n",
    ")\n",
    "fig = go.Figure(\n",
    "    data=data, \n",
    "    layout=layout\n",
    ")\n",
    "iplot(fig, \n",
    "      filename='stacked-bar', \n",
    ")"
   ]
  },
  {
   "cell_type": "markdown",
   "metadata": {},
   "source": [
    "Let's narrow down and look at the top 10 states. This can be done by simply adjusting the indexing of X and Y."
   ]
  },
  {
   "cell_type": "code",
   "execution_count": 10,
   "metadata": {},
   "outputs": [
    {
     "data": {
      "application/vnd.plotly.v1+json": {
       "data": [
        {
         "name": "State",
         "text": [
          90085,
          91582,
          91728,
          98123,
          100202,
          142306,
          191150,
          249955,
          254951,
          482904
         ],
         "textposition": "auto",
         "type": "bar",
         "x": [
          "WA",
          "GA",
          "FL",
          "PA",
          "MA",
          "IL",
          "NJ",
          "NY",
          "TX",
          "CA"
         ],
         "y": [
          90085,
          91582,
          91728,
          98123,
          100202,
          142306,
          191150,
          249955,
          254951,
          482904
         ]
        }
       ],
       "layout": {
        "barmode": "stack",
        "title": "H1Bs by State"
       }
      },
      "text/html": [
       "<div id=\"f441be3d-b686-46a1-b51d-2ae8d92957c7\" style=\"height: 525px; width: 100%;\" class=\"plotly-graph-div\"></div><script type=\"text/javascript\">require([\"plotly\"], function(Plotly) { window.PLOTLYENV=window.PLOTLYENV || {};window.PLOTLYENV.BASE_URL=\"https://plot.ly\";Plotly.newPlot(\"f441be3d-b686-46a1-b51d-2ae8d92957c7\", [{\"type\": \"bar\", \"x\": [\"WA\", \"GA\", \"FL\", \"PA\", \"MA\", \"IL\", \"NJ\", \"NY\", \"TX\", \"CA\"], \"y\": [90085, 91582, 91728, 98123, 100202, 142306, 191150, 249955, 254951, 482904], \"name\": \"State\", \"text\": [90085, 91582, 91728, 98123, 100202, 142306, 191150, 249955, 254951, 482904], \"textposition\": \"auto\"}], {\"title\": \"H1Bs by State\", \"barmode\": \"stack\"}, {\"showLink\": true, \"linkText\": \"Export to plot.ly\"})});</script>"
      ],
      "text/vnd.plotly.v1+html": [
       "<div id=\"f441be3d-b686-46a1-b51d-2ae8d92957c7\" style=\"height: 525px; width: 100%;\" class=\"plotly-graph-div\"></div><script type=\"text/javascript\">require([\"plotly\"], function(Plotly) { window.PLOTLYENV=window.PLOTLYENV || {};window.PLOTLYENV.BASE_URL=\"https://plot.ly\";Plotly.newPlot(\"f441be3d-b686-46a1-b51d-2ae8d92957c7\", [{\"type\": \"bar\", \"x\": [\"WA\", \"GA\", \"FL\", \"PA\", \"MA\", \"IL\", \"NJ\", \"NY\", \"TX\", \"CA\"], \"y\": [90085, 91582, 91728, 98123, 100202, 142306, 191150, 249955, 254951, 482904], \"name\": \"State\", \"text\": [90085, 91582, 91728, 98123, 100202, 142306, 191150, 249955, 254951, 482904], \"textposition\": \"auto\"}], {\"title\": \"H1Bs by State\", \"barmode\": \"stack\"}, {\"showLink\": true, \"linkText\": \"Export to plot.ly\"})});</script>"
      ]
     },
     "metadata": {},
     "output_type": "display_data"
    }
   ],
   "source": [
    "# Top 10 states \n",
    "X = states_frame[['code']].values.flatten()[-10:]\n",
    "Y = states_frame[['count']].values.flatten()[-10:]\n",
    "trace_states = go.Bar(x=X, \n",
    "                    y=Y, \n",
    "                    name=\"State\", \n",
    "                    text=Y, \n",
    "                    textposition = 'auto')\n",
    "\n",
    "data = [trace_states]\n",
    "layout = go.Layout(\n",
    "    title=\"H1Bs by State\",\n",
    "    barmode='stack'  \n",
    ")\n",
    "fig = go.Figure(\n",
    "    data=data, \n",
    "    layout=layout\n",
    ")\n",
    "iplot(fig, \n",
    "      filename='stacked-bar', \n",
    ")"
   ]
  },
  {
   "cell_type": "markdown",
   "metadata": {},
   "source": [
    "---\n",
    "**What is the location breakdown of number of applications for the top 3 state?**\n",
    "\n",
    "In order to do this, let write a method that takes in a dataframe and state and plots the choropleth of the data. "
   ]
  },
  {
   "cell_type": "code",
   "execution_count": null,
   "metadata": {
    "collapsed": true
   },
   "outputs": [],
   "source": [
    "geolocator = Nominatim(scheme='http')\n",
    "def get_county(coordinate):\n",
    "    location = geolocator.reverse(f'{coordinate[0]}, {coordinate[1]}')\n",
    "    return location.raw['address']['county']"
   ]
  },
  {
   "cell_type": "code",
   "execution_count": null,
   "metadata": {
    "collapsed": true
   },
   "outputs": [],
   "source": [
    "def number_by_state(frame, state):\n",
    "    # Transforming Data\n",
    "    data = frame[frame['CASE_STATUS'] == 'CERTIFIED'][frame['WORKSITE'].str.contains(state.upper())]\n",
    "    data = data[np.isfinite(data['lat']) & np.isfinite(data['lon'])]\n",
    "    fips_frame = pd.read_csv('./data/county_geocodes.csv', dtype=str)\n",
    "    fips_frame = fips_frame.set_index('Name')\n",
    "    fips_frame['fips'] = fips_frame['State'] + fips_frame['County']\n",
    "    state_code = fips_frame.at[state, 'State']\n",
    "    fips_frame = fips_frame[fips_frame['State'] == state_code]\n",
    "\n",
    "    # Setting up fresh Data Frame\n",
    "    columns = ['name', 'count', 'lat', 'lon', 'county', 'fips']\n",
    "    df = pd.DataFrame(columns=columns)\n",
    "    df = df.set_index('name')\n",
    "   \n",
    "    for index, row in data.iterrows():\n",
    "        city = row['WORKSITE']\n",
    "        if city in df.index:\n",
    "            df.at[city, 'count'] += 1\n",
    "        else:\n",
    "            lat = row['lat']\n",
    "            lon = row['lon']\n",
    "            county = get_county( (lat, lon) )\n",
    "            if county in fips_frame.index:\n",
    "                fips_code = fips_frame.at[county, 'fips']\n",
    "            else:\n",
    "                print(f'Unable to process {county}')\n",
    "            df.loc[city] = [1, lat, lon, county, fips_code]\n",
    "\n",
    "    df = df[df['count'] != 0]\n",
    "    df = df.sort_values(by='count')\n",
    "    # print(df)\n",
    "\n",
    "    values = df['count'].tolist()\n",
    "    fips = df['fips'].tolist()\n",
    "\n",
    "    # Plotting\n",
    "    colorscale = [\n",
    "        'rgb(193, 193, 193)',\n",
    "        'rgb(239,239,239)',\n",
    "        'rgb(195, 196, 222)',\n",
    "        'rgb(144,148,194)',\n",
    "        'rgb(101,104,168)',\n",
    "        'rgb(65, 53, 132)'\n",
    "    ]\n",
    "\n",
    "    scope = None\n",
    "    if state is 'California':\n",
    "        scope = 'CA'\n",
    "    elif state is 'New York':\n",
    "        scope = 'NY'\n",
    "    elif state is 'Texas':\n",
    "        scope = 'TX'\n",
    "\n",
    "    fig = ff.create_choropleth(\n",
    "        fips=fips, values=values, scope=[scope],\n",
    "        binning_endpoints=[10, 100, 500, 1000, 10000], colorscale=colorscale,\n",
    "        county_outline={'color': 'rgb(255,255,255)', 'width': 0.5}, round_legend_values=True,\n",
    "        legend_title='# of Applications', title='Applications by County'\n",
    "    )\n",
    "    \n",
    "    iplot(fig, filename=state)"
   ]
  },
  {
   "cell_type": "markdown",
   "metadata": {},
   "source": [
    "Using our previous findings, the top 3 states are California, Texas, and New York. You can ignore any `UserWarning`. \n",
    "Note that I wasn't able to get `geolocator` to work in the notebook. Hence, these are commented out. \n",
    "\n",
    "* California"
   ]
  },
  {
   "cell_type": "code",
   "execution_count": null,
   "metadata": {
    "collapsed": true
   },
   "outputs": [],
   "source": [
    "# number_by_state(h1b_frame, 'California')"
   ]
  },
  {
   "cell_type": "markdown",
   "metadata": {},
   "source": [
    "* Texas"
   ]
  },
  {
   "cell_type": "code",
   "execution_count": null,
   "metadata": {
    "collapsed": true
   },
   "outputs": [],
   "source": [
    "# number_by_state(h1b_frame, 'Texas')"
   ]
  },
  {
   "cell_type": "markdown",
   "metadata": {},
   "source": [
    "* New York"
   ]
  },
  {
   "cell_type": "code",
   "execution_count": null,
   "metadata": {
    "collapsed": true
   },
   "outputs": [],
   "source": [
    "# number_by_state(h1b_frame, 'New York')"
   ]
  },
  {
   "cell_type": "markdown",
   "metadata": {},
   "source": [
    "---\n",
    "**Who is the top Employer per State?**\n",
    "\n",
    "This question is very interesting. We figured that different states would have different top employers due to the dominant industry of that give state. "
   ]
  },
  {
   "cell_type": "code",
   "execution_count": 3,
   "metadata": {},
   "outputs": [
    {
     "ename": "NameError",
     "evalue": "name 'geo_frame' is not defined",
     "output_type": "error",
     "traceback": [
      "\u001b[0;31m---------------------------------------------------------------------------\u001b[0m",
      "\u001b[0;31mNameError\u001b[0m                                 Traceback (most recent call last)",
      "\u001b[0;32m<ipython-input-3-f679f33406b1>\u001b[0m in \u001b[0;36m<module>\u001b[0;34m()\u001b[0m\n\u001b[0;32m----> 1\u001b[0;31m \u001b[0mstates_frame\u001b[0m \u001b[0;34m=\u001b[0m \u001b[0mgeo_frame\u001b[0m\u001b[0;34m.\u001b[0m\u001b[0mdrop\u001b[0m\u001b[0;34m(\u001b[0m\u001b[0;34m'fips'\u001b[0m\u001b[0;34m,\u001b[0m \u001b[0maxis\u001b[0m\u001b[0;34m=\u001b[0m\u001b[0;36m1\u001b[0m\u001b[0;34m)\u001b[0m\u001b[0;34m\u001b[0m\u001b[0m\n\u001b[0m\u001b[1;32m      2\u001b[0m \u001b[0mstates_frame\u001b[0m\u001b[0;34m[\u001b[0m\u001b[0;34m'top_employer'\u001b[0m\u001b[0;34m]\u001b[0m \u001b[0;34m=\u001b[0m \u001b[0;34m''\u001b[0m\u001b[0;34m\u001b[0m\u001b[0m\n\u001b[1;32m      3\u001b[0m \u001b[0mstates_frame\u001b[0m\u001b[0;34m[\u001b[0m\u001b[0;34m'count'\u001b[0m\u001b[0;34m]\u001b[0m \u001b[0;34m=\u001b[0m \u001b[0;36m0\u001b[0m\u001b[0;34m\u001b[0m\u001b[0m\n\u001b[1;32m      4\u001b[0m \u001b[0mstates_frame\u001b[0m \u001b[0;34m=\u001b[0m \u001b[0mstates_frame\u001b[0m\u001b[0;34m.\u001b[0m\u001b[0mset_index\u001b[0m\u001b[0;34m(\u001b[0m\u001b[0;34m'name'\u001b[0m\u001b[0;34m)\u001b[0m\u001b[0;34m\u001b[0m\u001b[0m\n\u001b[1;32m      5\u001b[0m \u001b[0;34m\u001b[0m\u001b[0m\n",
      "\u001b[0;31mNameError\u001b[0m: name 'geo_frame' is not defined"
     ]
    }
   ],
   "source": [
    "states_frame = geo_frame.drop('fips', axis=1)\n",
    "states_frame['top_employer'] = ''\n",
    "states_frame['count'] = 0\n",
    "states_frame = states_frame.set_index('name')\n",
    "\n",
    "for state in states_frame.index:\n",
    "    data = h1b_frame[h1b_frame['CASE_STATUS'] == 'CERTIFIED'][h1b_frame['WORKSITE'].str.contains(state.upper())]\n",
    "    counts = data['EMPLOYER_NAME'].value_counts()\n",
    "    top_employer = counts.keys().tolist()[0]\n",
    "    top_count = counts.tolist()[0]\n",
    "    states_frame.at[state, 'top_employer'] = top_employer\n",
    "    states_frame.at[state, 'count'] = top_count\n",
    "\n",
    "states_frame = states_frame.sort_values('count')\n",
    "# print(states_frame)\n",
    "# states_frame.to_csv('../data/top_employer_by_state.csv')"
   ]
  },
  {
   "cell_type": "markdown",
   "metadata": {},
   "source": [
    "Now, that `states_frame` is ready again, we can get to plotting."
   ]
  },
  {
   "cell_type": "code",
   "execution_count": null,
   "metadata": {
    "collapsed": true
   },
   "outputs": [],
   "source": [
    "X = states_frame[['code']].values.flatten()\n",
    "Y = states_frame[['count']].values.flatten()\n",
    "text = states_frame[['top_employer']].values.flatten()\n",
    "\n",
    "trace_states = go.Bar(\n",
    "    x=X, \n",
    "    y=Y, \n",
    "    name=\"State\", \n",
    "    text=text, \n",
    "    textposition = 'auto')\n",
    "\n",
    "data = [trace_states]\n",
    "layout = go.Layout(title=\"H1Bs by State\", barmode='stack')\n",
    "fig = go.Figure(data=data, layout=layout)\n",
    "iplot(fig, filename='stacked-bar')"
   ]
  },
  {
   "cell_type": "markdown",
   "metadata": {},
   "source": [
    "Let's focus on the top 10 states..."
   ]
  },
  {
   "cell_type": "code",
   "execution_count": null,
   "metadata": {
    "collapsed": true
   },
   "outputs": [],
   "source": [
    "states_frame = states_frame[-10:]\n",
    "X = states_frame[['code']].values.flatten()\n",
    "Y = states_frame[['count']].values.flatten()\n",
    "text = states_frame[['top_employer']].values.flatten()\n",
    "\n",
    "trace_states = go.Bar(\n",
    "    x=X, \n",
    "    y=Y, \n",
    "    name=\"State\", \n",
    "    text=text, \n",
    "    textposition = 'auto')\n",
    "\n",
    "data = [trace_states]\n",
    "layout = go.Layout(title=\"H1Bs by State\", barmode='stack')\n",
    "fig = go.Figure(data=data, layout=layout)\n",
    "iplot(fig, filename='stacked-bar')"
   ]
  },
  {
   "cell_type": "markdown",
   "metadata": {},
   "source": [
    "We see that INFOSYS LIMITED is an overwhelming favorite for applying for an H-1B visa."
   ]
  },
  {
   "cell_type": "markdown",
   "metadata": {},
   "source": [
    "---\n",
    "**What is the Average Salary of the Top Employer of each state?**\n",
    "\n",
    "Now that we are aware of the top company that applies for H-1B visas. Let's figure out what is the average salary they offer their employees."
   ]
  },
  {
   "cell_type": "code",
   "execution_count": null,
   "metadata": {
    "collapsed": true
   },
   "outputs": [],
   "source": [
    "data = h1b_frame[h1b_frame['CASE_STATUS'] == 'CERTIFIED']\n",
    "df = pd.read_csv('./data/top_employer_by_state.csv')\n",
    "df = df.set_index('name')\n",
    "\n",
    "for state, row in df.iterrows():\n",
    "    employer = row['top_employer']\n",
    "    wages = data[data['WORKSITE'].str.contains(state.upper())][data['EMPLOYER_NAME'] == employer]['PREVAILING_WAGE']\n",
    "    df.at[state, 'average_salary'] = round(wages.mean(), 2)\n",
    "    \n",
    "df.sort_index()"
   ]
  },
  {
   "cell_type": "markdown",
   "metadata": {},
   "source": [
    "Now that `df` is ready, we can begin plotting"
   ]
  },
  {
   "cell_type": "code",
   "execution_count": null,
   "metadata": {
    "collapsed": true
   },
   "outputs": [],
   "source": [
    "map_data = '/Users/hirad.pourtahmasbi/Dev/h1b-analysis/data/map/us_states.json'\n",
    "m = folium.Map(location=[37, -102], zoom_start=4)\n",
    "m.choropleth(\n",
    "    geo_data=map_data,\n",
    "    name='2011-2016 Average Salary of Top Employer per State',\n",
    "    data=df,\n",
    "    columns=['code', 'average_salary'],\n",
    "    key_on='feature.id',\n",
    "    fill_color='YlGn',\n",
    "    fill_opacity=0.7,\n",
    "    line_opacity=0.2,\n",
    "    legend_name='Average Salary'\n",
    ")\n",
    "folium.LayerControl().add_to(m)\n",
    "m"
   ]
  },
  {
   "cell_type": "markdown",
   "metadata": {},
   "source": [
    "---\n",
    "### Chronological Analysis: \n",
    "\n",
    "* What is the year-by-year breakdown of applications? "
   ]
  },
  {
   "cell_type": "code",
   "execution_count": 11,
   "metadata": {},
   "outputs": [
    {
     "data": {
      "application/vnd.plotly.v1+json": {
       "data": [
        {
         "name": "Certified",
         "text": [
          307936,
          352668,
          382951,
          455144,
          547278,
          569646
         ],
         "textposition": "auto",
         "type": "bar",
         "x": [
          2011,
          2012,
          2013,
          2014,
          2015,
          2016
         ],
         "y": [
          307936,
          352668,
          382951,
          455144,
          547278,
          569646
         ]
        },
        {
         "name": "Non-Certified",
         "text": [
          50831,
          62939,
          59163,
          64283,
          71449,
          78157
         ],
         "textposition": "auto",
         "type": "bar",
         "x": [
          2011,
          2012,
          2013,
          2014,
          2015,
          2016
         ],
         "y": [
          50831,
          62939,
          59163,
          64283,
          71449,
          78157
         ]
        }
       ],
       "layout": {
        "barmode": "stack",
        "title": "Certified vs Non-Certified H1B applications per Year"
       }
      },
      "text/html": [
       "<div id=\"e8821b99-f457-4faf-8cc1-bcd2372feb94\" style=\"height: 525px; width: 100%;\" class=\"plotly-graph-div\"></div><script type=\"text/javascript\">require([\"plotly\"], function(Plotly) { window.PLOTLYENV=window.PLOTLYENV || {};window.PLOTLYENV.BASE_URL=\"https://plot.ly\";Plotly.newPlot(\"e8821b99-f457-4faf-8cc1-bcd2372feb94\", [{\"type\": \"bar\", \"x\": [2011.0, 2012.0, 2013.0, 2014.0, 2015.0, 2016.0], \"y\": [307936, 352668, 382951, 455144, 547278, 569646], \"name\": \"Certified\", \"text\": [307936, 352668, 382951, 455144, 547278, 569646], \"textposition\": \"auto\"}, {\"type\": \"bar\", \"x\": [2011.0, 2012.0, 2013.0, 2014.0, 2015.0, 2016.0], \"y\": [50831, 62939, 59163, 64283, 71449, 78157], \"name\": \"Non-Certified\", \"text\": [50831, 62939, 59163, 64283, 71449, 78157], \"textposition\": \"auto\"}], {\"title\": \"Certified vs Non-Certified H1B applications per Year\", \"barmode\": \"stack\"}, {\"showLink\": true, \"linkText\": \"Export to plot.ly\"})});</script>"
      ],
      "text/vnd.plotly.v1+html": [
       "<div id=\"e8821b99-f457-4faf-8cc1-bcd2372feb94\" style=\"height: 525px; width: 100%;\" class=\"plotly-graph-div\"></div><script type=\"text/javascript\">require([\"plotly\"], function(Plotly) { window.PLOTLYENV=window.PLOTLYENV || {};window.PLOTLYENV.BASE_URL=\"https://plot.ly\";Plotly.newPlot(\"e8821b99-f457-4faf-8cc1-bcd2372feb94\", [{\"type\": \"bar\", \"x\": [2011.0, 2012.0, 2013.0, 2014.0, 2015.0, 2016.0], \"y\": [307936, 352668, 382951, 455144, 547278, 569646], \"name\": \"Certified\", \"text\": [307936, 352668, 382951, 455144, 547278, 569646], \"textposition\": \"auto\"}, {\"type\": \"bar\", \"x\": [2011.0, 2012.0, 2013.0, 2014.0, 2015.0, 2016.0], \"y\": [50831, 62939, 59163, 64283, 71449, 78157], \"name\": \"Non-Certified\", \"text\": [50831, 62939, 59163, 64283, 71449, 78157], \"textposition\": \"auto\"}], {\"title\": \"Certified vs Non-Certified H1B applications per Year\", \"barmode\": \"stack\"}, {\"showLink\": true, \"linkText\": \"Export to plot.ly\"})});</script>"
      ]
     },
     "metadata": {},
     "output_type": "display_data"
    }
   ],
   "source": [
    "# Histogram for number of applications per year\n",
    "years_frame_non_cert = h1b_frame.loc[h1b_frame['CASE_STATUS'] != 'CERTIFIED'].groupby('YEAR').count()\n",
    "X = years_frame_non_cert.index.values\n",
    "Y = years_frame_non_cert[['Unnamed: 0']].values.flatten()\n",
    "trace_non_cert = go.Bar(x=X, \n",
    "                        y=Y, \n",
    "                        name=\"Non-Certified\",\n",
    "                        text=Y, \n",
    "                        textposition = 'auto')\n",
    "\n",
    "# Histogram for number of applications per year that are 'CERTIFIED', \n",
    "# which means 'meeting the minumum requirement'.\n",
    "years_frame_cert = h1b_frame.loc[h1b_frame['CASE_STATUS'] == 'CERTIFIED'].groupby('YEAR').count()\n",
    "X = years_frame_cert.index.values\n",
    "Y = years_frame_cert[['Unnamed: 0']].values.flatten()\n",
    "trace_cert = go.Bar(x=X, \n",
    "                    y=Y, \n",
    "                    name=\"Certified\", \n",
    "                    text=Y, \n",
    "                    textposition = 'auto')\n",
    "\n",
    "data = [trace_cert, trace_non_cert]\n",
    "layout = go.Layout(\n",
    "    title=\"Certified vs Non-Certified H1B applications per Year\",\n",
    "    barmode='stack'  \n",
    ")\n",
    "fig = go.Figure(\n",
    "    data=data, \n",
    "    layout=layout\n",
    ")\n",
    "iplot(fig, \n",
    "      filename='stacked-bar', \n",
    ")"
   ]
  },
  {
   "cell_type": "code",
   "execution_count": 12,
   "metadata": {},
   "outputs": [],
   "source": [
    "# Creating a dataframe with columns\n",
    "h1b_frame_with_states = pd.read_csv(\"./data/h1b.csv\")\n",
    "h1b_frame_with_states['state'] = ''\n",
    "h1b_frame_with_states['state'] = h1b_frame_with_states['WORKSITE']\n",
    "tr = []\n",
    "for worksite in h1b_frame_with_states['state']:\n",
    "    tr.append(worksite.split(',')[1].strip().title())\n",
    "h1b_frame_with_states['state'] = tr"
   ]
  },
  {
   "cell_type": "code",
   "execution_count": null,
   "metadata": {
    "collapsed": true
   },
   "outputs": [],
   "source": [
    "# saving h1b data frame with states into the file\n",
    "# df.to_csv(\"./data/h1b_with_states.csv\")\n",
    "h1b_frame_with_states = pd.read_csv(\"./data/h1b_with_states.csv\")"
   ]
  },
  {
   "cell_type": "code",
   "execution_count": 6,
   "metadata": {},
   "outputs": [
    {
     "data": {
      "application/vnd.plotly.v1+json": {
       "data": [
        {
         "name": "Ratios",
         "type": "bar",
         "x": [
          "Alabama",
          "Alaska",
          "Arizona",
          "Arkansas",
          "California",
          "Colorado",
          "Connecticut",
          "Delaware",
          "District Of Columbia",
          "Florida",
          "Georgia",
          "Hawaii",
          "Idaho",
          "Illinois",
          "Indiana",
          "Iowa",
          "Kansas",
          "Kentucky",
          "Louisiana",
          "Maine",
          "Maryland",
          "Massachusetts",
          "Michigan",
          "Minnesota",
          "Mississippi",
          "Missouri",
          "Montana",
          "Nebraska",
          "Nevada",
          "New Hampshire",
          "New Jersey",
          "New Mexico",
          "New York",
          "North Carolina",
          "North Dakota",
          "Ohio",
          "Oklahoma",
          "Oregon",
          "Pennsylvania",
          "Puerto Rico",
          "Rhode Island",
          "South Carolina",
          "South Dakota",
          "Tennessee",
          "Texas",
          "Utah",
          "Vermont",
          "Virginia",
          "Washington",
          "West Virginia",
          "Wisconsin",
          "Wyoming"
         ],
         "y": [
          0.035634240125017994,
          0.02075768236432698,
          0.12540630445136114,
          0.10230074612281176,
          0.26514638197481544,
          0.09939455414584666,
          0.2544421119030816,
          0.32361235839989916,
          0.5235110178075958,
          0.09064429493278307,
          0.21559844936714692,
          0.030240305427084814,
          0.04545076464227575,
          0.2442675056491255,
          0.08135017163288157,
          0.08016734015101319,
          0.08451172208886011,
          0.052896410932315584,
          0.040370244267745714,
          0.04724070000352991,
          0.15633811782934348,
          0.3177437201060105,
          0.18569140739099343,
          0.16183111737203512,
          0.023421350769525208,
          0.11276875102576728,
          0.015251505966312398,
          0.09270542536479165,
          0.03999921089992102,
          0.12563727014260617,
          0.4826893580826318,
          0.044545570310641686,
          0.25977335657128137,
          0.16312551321659624,
          0.060162121084184755,
          0.12692893538032574,
          0.04493367122366646,
          0.10101466605919435,
          0.1653678396042248,
          0.004836855785773605,
          0.21241431013625184,
          0.050956245959832856,
          0.03431724851927428,
          0.07467832091501164,
          0.21424421471710675,
          0.0833110198324144,
          0.050432761121624606,
          0.19817380520335223,
          0.2797338090010977,
          0.025612991520952953,
          0.10855367670420447,
          0.017762565734302762
         ]
        }
       ],
       "layout": {
        "barmode": "stack",
        "title": "Number of Applications per State in proportion to Population (2016)"
       }
      },
      "text/html": [
       "<div id=\"bfa6715f-7076-489f-ac38-8fe02d3f9e0c\" style=\"height: 525px; width: 100%;\" class=\"plotly-graph-div\"></div><script type=\"text/javascript\">require([\"plotly\"], function(Plotly) { window.PLOTLYENV=window.PLOTLYENV || {};window.PLOTLYENV.BASE_URL=\"https://plot.ly\";Plotly.newPlot(\"bfa6715f-7076-489f-ac38-8fe02d3f9e0c\", [{\"type\": \"bar\", \"x\": [\"Alabama\", \"Alaska\", \"Arizona\", \"Arkansas\", \"California\", \"Colorado\", \"Connecticut\", \"Delaware\", \"District Of Columbia\", \"Florida\", \"Georgia\", \"Hawaii\", \"Idaho\", \"Illinois\", \"Indiana\", \"Iowa\", \"Kansas\", \"Kentucky\", \"Louisiana\", \"Maine\", \"Maryland\", \"Massachusetts\", \"Michigan\", \"Minnesota\", \"Mississippi\", \"Missouri\", \"Montana\", \"Nebraska\", \"Nevada\", \"New Hampshire\", \"New Jersey\", \"New Mexico\", \"New York\", \"North Carolina\", \"North Dakota\", \"Ohio\", \"Oklahoma\", \"Oregon\", \"Pennsylvania\", \"Puerto Rico\", \"Rhode Island\", \"South Carolina\", \"South Dakota\", \"Tennessee\", \"Texas\", \"Utah\", \"Vermont\", \"Virginia\", \"Washington\", \"West Virginia\", \"Wisconsin\", \"Wyoming\"], \"y\": [0.035634240125017994, 0.02075768236432698, 0.12540630445136114, 0.10230074612281176, 0.26514638197481544, 0.09939455414584666, 0.2544421119030816, 0.32361235839989916, 0.5235110178075958, 0.09064429493278307, 0.21559844936714692, 0.030240305427084814, 0.04545076464227575, 0.2442675056491255, 0.08135017163288157, 0.08016734015101319, 0.08451172208886011, 0.052896410932315584, 0.040370244267745714, 0.04724070000352991, 0.15633811782934348, 0.3177437201060105, 0.18569140739099343, 0.16183111737203512, 0.023421350769525208, 0.11276875102576728, 0.015251505966312398, 0.09270542536479165, 0.03999921089992102, 0.12563727014260617, 0.4826893580826318, 0.044545570310641686, 0.25977335657128137, 0.16312551321659624, 0.060162121084184755, 0.12692893538032574, 0.04493367122366646, 0.10101466605919435, 0.1653678396042248, 0.004836855785773605, 0.21241431013625184, 0.050956245959832856, 0.03431724851927428, 0.07467832091501164, 0.21424421471710675, 0.0833110198324144, 0.050432761121624606, 0.19817380520335223, 0.2797338090010977, 0.025612991520952953, 0.10855367670420447, 0.017762565734302762], \"name\": \"Ratios\"}], {\"title\": \"Number of Applications per State in proportion to Population (2016)\", \"barmode\": \"stack\"}, {\"showLink\": true, \"linkText\": \"Export to plot.ly\"})});</script>"
      ],
      "text/vnd.plotly.v1+html": [
       "<div id=\"bfa6715f-7076-489f-ac38-8fe02d3f9e0c\" style=\"height: 525px; width: 100%;\" class=\"plotly-graph-div\"></div><script type=\"text/javascript\">require([\"plotly\"], function(Plotly) { window.PLOTLYENV=window.PLOTLYENV || {};window.PLOTLYENV.BASE_URL=\"https://plot.ly\";Plotly.newPlot(\"bfa6715f-7076-489f-ac38-8fe02d3f9e0c\", [{\"type\": \"bar\", \"x\": [\"Alabama\", \"Alaska\", \"Arizona\", \"Arkansas\", \"California\", \"Colorado\", \"Connecticut\", \"Delaware\", \"District Of Columbia\", \"Florida\", \"Georgia\", \"Hawaii\", \"Idaho\", \"Illinois\", \"Indiana\", \"Iowa\", \"Kansas\", \"Kentucky\", \"Louisiana\", \"Maine\", \"Maryland\", \"Massachusetts\", \"Michigan\", \"Minnesota\", \"Mississippi\", \"Missouri\", \"Montana\", \"Nebraska\", \"Nevada\", \"New Hampshire\", \"New Jersey\", \"New Mexico\", \"New York\", \"North Carolina\", \"North Dakota\", \"Ohio\", \"Oklahoma\", \"Oregon\", \"Pennsylvania\", \"Puerto Rico\", \"Rhode Island\", \"South Carolina\", \"South Dakota\", \"Tennessee\", \"Texas\", \"Utah\", \"Vermont\", \"Virginia\", \"Washington\", \"West Virginia\", \"Wisconsin\", \"Wyoming\"], \"y\": [0.035634240125017994, 0.02075768236432698, 0.12540630445136114, 0.10230074612281176, 0.26514638197481544, 0.09939455414584666, 0.2544421119030816, 0.32361235839989916, 0.5235110178075958, 0.09064429493278307, 0.21559844936714692, 0.030240305427084814, 0.04545076464227575, 0.2442675056491255, 0.08135017163288157, 0.08016734015101319, 0.08451172208886011, 0.052896410932315584, 0.040370244267745714, 0.04724070000352991, 0.15633811782934348, 0.3177437201060105, 0.18569140739099343, 0.16183111737203512, 0.023421350769525208, 0.11276875102576728, 0.015251505966312398, 0.09270542536479165, 0.03999921089992102, 0.12563727014260617, 0.4826893580826318, 0.044545570310641686, 0.25977335657128137, 0.16312551321659624, 0.060162121084184755, 0.12692893538032574, 0.04493367122366646, 0.10101466605919435, 0.1653678396042248, 0.004836855785773605, 0.21241431013625184, 0.050956245959832856, 0.03431724851927428, 0.07467832091501164, 0.21424421471710675, 0.0833110198324144, 0.050432761121624606, 0.19817380520335223, 0.2797338090010977, 0.025612991520952953, 0.10855367670420447, 0.017762565734302762], \"name\": \"Ratios\"}], {\"title\": \"Number of Applications per State in proportion to Population (2016)\", \"barmode\": \"stack\"}, {\"showLink\": true, \"linkText\": \"Export to plot.ly\"})});</script>"
      ]
     },
     "metadata": {},
     "output_type": "display_data"
    },
    {
     "data": {
      "application/vnd.plotly.v1+json": {
       "data": [
        {
         "name": "Ratios",
         "type": "bar",
         "x": [
          "Alabama",
          "Alaska",
          "Arizona",
          "Arkansas",
          "California",
          "Colorado",
          "Connecticut",
          "Delaware",
          "District Of Columbia",
          "Florida",
          "Georgia",
          "Hawaii",
          "Idaho",
          "Illinois",
          "Indiana",
          "Iowa",
          "Kansas",
          "Kentucky",
          "Louisiana",
          "Maine",
          "Maryland",
          "Massachusetts",
          "Michigan",
          "Minnesota",
          "Mississippi",
          "Missouri",
          "Montana",
          "Nebraska",
          "Nevada",
          "New Hampshire",
          "New Jersey",
          "New Mexico",
          "New York",
          "North Carolina",
          "North Dakota",
          "Ohio",
          "Oklahoma",
          "Oregon",
          "Pennsylvania",
          "Puerto Rico",
          "Rhode Island",
          "South Carolina",
          "South Dakota",
          "Tennessee",
          "Texas",
          "Utah",
          "Vermont",
          "Virginia",
          "Washington",
          "West Virginia",
          "Wisconsin",
          "Wyoming"
         ],
         "y": [
          1733,
          154,
          8692,
          3057,
          104070,
          5507,
          9100,
          3081,
          3566,
          18684,
          22229,
          432,
          765,
          31270,
          5396,
          2513,
          2457,
          2347,
          1890,
          629,
          9406,
          21644,
          18436,
          8933,
          700,
          6871,
          159,
          1768,
          1176,
          1677,
          43174,
          927,
          51293,
          16552,
          456,
          14742,
          1763,
          4135,
          21141,
          165,
          2244,
          2528,
          297,
          4967,
          59694,
          2542,
          315,
          16670,
          20387,
          469,
          6273,
          104
         ]
        }
       ],
       "layout": {
        "barmode": "stack",
        "title": "Number of Applications (2016)"
       }
      },
      "text/html": [
       "<div id=\"907e6bce-401f-4f03-9338-021fd34072ee\" style=\"height: 525px; width: 100%;\" class=\"plotly-graph-div\"></div><script type=\"text/javascript\">require([\"plotly\"], function(Plotly) { window.PLOTLYENV=window.PLOTLYENV || {};window.PLOTLYENV.BASE_URL=\"https://plot.ly\";Plotly.newPlot(\"907e6bce-401f-4f03-9338-021fd34072ee\", [{\"type\": \"bar\", \"x\": [\"Alabama\", \"Alaska\", \"Arizona\", \"Arkansas\", \"California\", \"Colorado\", \"Connecticut\", \"Delaware\", \"District Of Columbia\", \"Florida\", \"Georgia\", \"Hawaii\", \"Idaho\", \"Illinois\", \"Indiana\", \"Iowa\", \"Kansas\", \"Kentucky\", \"Louisiana\", \"Maine\", \"Maryland\", \"Massachusetts\", \"Michigan\", \"Minnesota\", \"Mississippi\", \"Missouri\", \"Montana\", \"Nebraska\", \"Nevada\", \"New Hampshire\", \"New Jersey\", \"New Mexico\", \"New York\", \"North Carolina\", \"North Dakota\", \"Ohio\", \"Oklahoma\", \"Oregon\", \"Pennsylvania\", \"Puerto Rico\", \"Rhode Island\", \"South Carolina\", \"South Dakota\", \"Tennessee\", \"Texas\", \"Utah\", \"Vermont\", \"Virginia\", \"Washington\", \"West Virginia\", \"Wisconsin\", \"Wyoming\"], \"y\": [1733, 154, 8692, 3057, 104070, 5507, 9100, 3081, 3566, 18684, 22229, 432, 765, 31270, 5396, 2513, 2457, 2347, 1890, 629, 9406, 21644, 18436, 8933, 700, 6871, 159, 1768, 1176, 1677, 43174, 927, 51293, 16552, 456, 14742, 1763, 4135, 21141, 165, 2244, 2528, 297, 4967, 59694, 2542, 315, 16670, 20387, 469, 6273, 104], \"name\": \"Ratios\"}], {\"title\": \"Number of Applications (2016)\", \"barmode\": \"stack\"}, {\"showLink\": true, \"linkText\": \"Export to plot.ly\"})});</script>"
      ],
      "text/vnd.plotly.v1+html": [
       "<div id=\"907e6bce-401f-4f03-9338-021fd34072ee\" style=\"height: 525px; width: 100%;\" class=\"plotly-graph-div\"></div><script type=\"text/javascript\">require([\"plotly\"], function(Plotly) { window.PLOTLYENV=window.PLOTLYENV || {};window.PLOTLYENV.BASE_URL=\"https://plot.ly\";Plotly.newPlot(\"907e6bce-401f-4f03-9338-021fd34072ee\", [{\"type\": \"bar\", \"x\": [\"Alabama\", \"Alaska\", \"Arizona\", \"Arkansas\", \"California\", \"Colorado\", \"Connecticut\", \"Delaware\", \"District Of Columbia\", \"Florida\", \"Georgia\", \"Hawaii\", \"Idaho\", \"Illinois\", \"Indiana\", \"Iowa\", \"Kansas\", \"Kentucky\", \"Louisiana\", \"Maine\", \"Maryland\", \"Massachusetts\", \"Michigan\", \"Minnesota\", \"Mississippi\", \"Missouri\", \"Montana\", \"Nebraska\", \"Nevada\", \"New Hampshire\", \"New Jersey\", \"New Mexico\", \"New York\", \"North Carolina\", \"North Dakota\", \"Ohio\", \"Oklahoma\", \"Oregon\", \"Pennsylvania\", \"Puerto Rico\", \"Rhode Island\", \"South Carolina\", \"South Dakota\", \"Tennessee\", \"Texas\", \"Utah\", \"Vermont\", \"Virginia\", \"Washington\", \"West Virginia\", \"Wisconsin\", \"Wyoming\"], \"y\": [1733, 154, 8692, 3057, 104070, 5507, 9100, 3081, 3566, 18684, 22229, 432, 765, 31270, 5396, 2513, 2457, 2347, 1890, 629, 9406, 21644, 18436, 8933, 700, 6871, 159, 1768, 1176, 1677, 43174, 927, 51293, 16552, 456, 14742, 1763, 4135, 21141, 165, 2244, 2528, 297, 4967, 59694, 2542, 315, 16670, 20387, 469, 6273, 104], \"name\": \"Ratios\"}], {\"title\": \"Number of Applications (2016)\", \"barmode\": \"stack\"}, {\"showLink\": true, \"linkText\": \"Export to plot.ly\"})});</script>"
      ]
     },
     "metadata": {},
     "output_type": "display_data"
    }
   ],
   "source": [
    "# Does the number of applications is the same when looked in proporion with with state population (per year)? \n",
    "h1b_frame_group = h1b_frame_with_states.loc[ h1b_frame_with_states['CASE_STATUS'] == 'CERTIFIED']\n",
    "h1b_frame_group = h1b_frame_group.loc[ h1b_frame_group['state'] != 'Na']\n",
    "h1b_frame_group = h1b_frame_group.loc[ h1b_frame_group['YEAR'] == 2016 ]\n",
    "h1b_frame_group = h1b_frame_group.groupby('state').count()\n",
    "population_estimates_frame = pd.read_csv(\"./data/population_est.csv\")\n",
    "\n",
    "h1b_frame_group['population 2016'] = 0 \n",
    "l = list(population_estimates_frame['2016'])\n",
    "h1b_frame_group['population 2016'] = l\n",
    "h1b_frame_group['ratio to population'] =  (h1b_frame_group['Unnamed: 0'] / h1b_frame_group['population 2016']) * 100\n",
    "\n",
    "X = h1b_frame_group.index.values\n",
    "Y = h1b_frame_group['ratio to population'].values.flatten()\n",
    "trace1 = go.Bar(\n",
    "    x=X,\n",
    "    y=Y,\n",
    "    name='Ratios'\n",
    ")\n",
    "\n",
    "data = [trace1]\n",
    "layout = go.Layout(\n",
    "    title=\"Number of Applications per State in proportion to Population (2016)\",\n",
    "    barmode='stack'\n",
    ")\n",
    "fig = go.Figure(data=data, layout=layout)\n",
    "iplot(fig, filename='grouped')\n",
    "\n",
    "\n",
    "#counts \n",
    "X = h1b_frame_group.index.values\n",
    "Y = h1b_frame_group['Unnamed: 0'].values.flatten()\n",
    "\n",
    "trace1 = go.Bar(\n",
    "    x=X,\n",
    "    y=Y,\n",
    "    name='Ratios'\n",
    ")\n",
    "\n",
    "data = [trace1]\n",
    "layout = go.Layout(\n",
    "    title=\"Number of Applications (2016)\",\n",
    "    barmode='stack'\n",
    ")\n",
    "fig = go.Figure(data=data, layout=layout)\n",
    "iplot(fig, filename='grouped')\n",
    "\n"
   ]
  },
  {
   "cell_type": "markdown",
   "metadata": {},
   "source": [
    "--- \n",
    "### H1B Cap Exempt Applications vs Non-Cap Exempt Applications\n",
    "\n",
    "Conducting analysis on cap exempt vs non-cap exempt applications\n",
    "\n",
    "H1B employment are exempt from the cap if the applicant will work at the defined institutions of higher education or a related or affiliated nonprofit entities, or at nonprofit research organizations or governmental research organizations"
   ]
  },
  {
   "cell_type": "code",
   "execution_count": null,
   "metadata": {},
   "outputs": [],
   "source": [
    "# t = t.sort_values('Unnamed: 0', ascending=False)\n",
    "# t\n",
    "h1b_frame_with_states"
   ]
  },
  {
   "cell_type": "markdown",
   "metadata": {},
   "source": [
    "--- \n",
    "### Wage Analysis\n",
    "\n",
    "Let's first take a look at the typical wage of the applicants. The wage that are sometimes reported are abnormally high. Therefore, we should exclude applicants that have a higher than normal wage. It is up to you to decide the cuttoff, we decided on $400,000. "
   ]
  },
  {
   "cell_type": "code",
   "execution_count": null,
   "metadata": {
    "collapsed": true
   },
   "outputs": [],
   "source": [
    "df = h1b_frame[(h1b_frame['PREVAILING_WAGE'] < 400000) & (h1b_frame['CASE_STATUS'] == 'CERTIFIED')]\n",
    "df = df.dropna(axis=0, how='all')"
   ]
  },
  {
   "cell_type": "markdown",
   "metadata": {},
   "source": [
    "After this, the dataframe is pratically ready and we are ready for ploting histograms. The configuration fields here are optional to the use."
   ]
  },
  {
   "cell_type": "code",
   "execution_count": null,
   "metadata": {
    "collapsed": true
   },
   "outputs": [],
   "source": [
    "title = 'H-1B Salary From 2011 to 2016'\n",
    "\n",
    "with plt.style.context('fivethirtyeight'):\n",
    "    fig, ax = plt.subplots(1, 1, figsize=(10, 4))\n",
    "    ax.hist(df['PREVAILING_WAGE'], bins=200, edgecolor='#ffffff', color='#169630')\n",
    "\n",
    "ax.set_title(title)\n",
    "plt.xlim([15000, 200000])\n",
    "plt.xlabel('Salary',size=10)\n",
    "plt.ylabel('# of Applicants', size=20)\n",
    "\n",
    "# plt.savefig('../graphs/' + title + '.png') # Saving the generated graph\n",
    "plt.show()"
   ]
  },
  {
   "cell_type": "markdown",
   "metadata": {
    "scrolled": true
   },
   "source": [
    "Now we will look at the average wage salary based on occupation."
   ]
  },
  {
   "cell_type": "code",
   "execution_count": null,
   "metadata": {
    "collapsed": true
   },
   "outputs": [],
   "source": [
    "dFrame = h1b_frame[(h1b_frame['PREVAILING_WAGE'] < 400000) & (h1b_frame['CASE_STATUS'] == 'CERTIFIED')]\n",
    "dFrame = dFrame.groupby('SOC_NAME')['PREVAILING_WAGE'].mean().nlargest(20)\n",
    "\n",
    "ax = plt.subplot(111)\n",
    "dFrame.plot(kind='barh', figsize=(25, 15), ax=ax);\n",
    "ax.set_xlabel('Wage', size = 40)\n",
    "ax.set_ylabel('Occupation Code', size = 30)\n",
    "ax.set_title('Wage Salary Based on Occupation Code', size = 40)\n",
    "ax.xaxis.set_tick_params(labelsize=30)\n",
    "ax.yaxis.set_tick_params(labelsize=30)"
   ]
  },
  {
   "cell_type": "code",
   "execution_count": null,
   "metadata": {
    "collapsed": true
   },
   "outputs": [],
   "source": [
    "dFrame = h1b_frame[(h1b_frame['PREVAILING_WAGE'] < 400000) & (h1b_frame['CASE_STATUS'] == 'CERTIFIED')]\n",
    "dFrame = dFrame.groupby('JOB_TITLE')['PREVAILING_WAGE'].mean().nlargest(20)\n",
    "\n",
    "ax = plt.subplot(111)\n",
    "dFrame.plot(kind='barh', figsize=(25, 15), ax=ax);\n",
    "ax.set_xlabel('Wage', size = 40)\n",
    "ax.set_ylabel('Job Title', size = 30)\n",
    "ax.set_title('Wage Salary Based on Job Title', size = 40)\n",
    "ax.xaxis.set_tick_params(labelsize=30)\n",
    "ax.yaxis.set_tick_params(labelsize=30)"
   ]
  },
  {
   "cell_type": "code",
   "execution_count": null,
   "metadata": {
    "collapsed": true
   },
   "outputs": [],
   "source": []
  }
 ],
 "metadata": {
  "kernelspec": {
   "display_name": "Python 3",
   "language": "python",
   "name": "python3"
  },
  "language_info": {
   "codemirror_mode": {
    "name": "ipython",
    "version": 3
   },
   "file_extension": ".py",
   "mimetype": "text/x-python",
   "name": "python",
   "nbconvert_exporter": "python",
   "pygments_lexer": "ipython3",
   "version": "3.6.3"
  }
 },
 "nbformat": 4,
 "nbformat_minor": 2
}
