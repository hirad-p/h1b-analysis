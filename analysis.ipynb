{
 "cells": [
  {
   "cell_type": "code",
   "execution_count": 1,
   "metadata": {},
   "outputs": [],
   "source": [
    "# Put all the imports here\n",
    "import folium\n",
    "import pandas as pd"
   ]
  },
  {
   "cell_type": "code",
   "execution_count": 3,
   "metadata": {},
   "outputs": [],
   "source": [
    "# Load data\n",
    "h1b_frame = pd.read_csv('./data/h1b.csv') # dataset to large, please download from README.md\n",
    "geo_frame = pd.read_csv('./data/state_geocodes.csv')"
   ]
  },
  {
   "cell_type": "code",
   "execution_count": 7,
   "metadata": {},
   "outputs": [],
   "source": [
    "#### Applications by State ######\n",
    "states = geo_frame['name'].tolist()\n",
    "states_frame = geo_frame.drop('fips', axis=1)\n",
    "states_frame['count'] = 0\n",
    "states_frame = states_frame.set_index('name')\n",
    "\n",
    "top_cities = h1b_frame['WORKSITE'].value_counts()[:100]\n",
    "\n",
    "for worksite, count in top_cities.items():\n",
    "    state = worksite.split(',')[1].strip().lower().title()\n",
    "    states_frame.at[state, 'count'] = count\n",
    "states_frame = states_frame[states_frame['count'] != 0]\n",
    "\n",
    "# plot\n",
    "map_data = './data/map/us_states.json'\n",
    "m = folium.Map(location=[37, -102], zoom_start=5)\n",
    "\n",
    "m.choropleth(\n",
    " geo_data=map_data,\n",
    " name='2011-2016 H-1B Visa Applications',\n",
    " data=states_frame,\n",
    " columns=['code', 'count'],\n",
    " key_on='feature.id',\n",
    " fill_color='YlGn',\n",
    " fill_opacity=0.7,\n",
    " line_opacity=0.2,\n",
    " legend_name='# of Applications'\n",
    ")\n",
    "\n",
    "folium.LayerControl().add_to(m)\n",
    "m.save('./graphs/applications_by_states.html')"
   ]
  },
  {
   "cell_type": "code",
   "execution_count": null,
   "metadata": {},
   "outputs": [],
   "source": []
  }
 ],
 "metadata": {
  "kernelspec": {
   "display_name": "Python 3",
   "language": "python",
   "name": "python3"
  },
  "language_info": {
   "codemirror_mode": {
    "name": "ipython",
    "version": 3
   },
   "file_extension": ".py",
   "mimetype": "text/x-python",
   "name": "python",
   "nbconvert_exporter": "python",
   "pygments_lexer": "ipython3",
   "version": "3.6.3"
  }
 },
 "nbformat": 4,
 "nbformat_minor": 2
}
