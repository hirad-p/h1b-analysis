{
 "cells": [
  {
   "cell_type": "markdown",
   "metadata": {},
   "source": [
    "# H-1B Visa Applications"
   ]
  },
  {
   "cell_type": "markdown",
   "metadata": {},
   "source": [
    "Immigration is a hot and controversial topic in today's political culture. Because of this, we decided to conduct some analysis on the numbers and find out some truths. \n",
    "\n",
    "Mainly, the focus of this analysis is to answer the following question:\n",
    "\n",
    "1. Geographical Analysis:\n",
    "    * What are the states with the most applicants? \n",
    "  \n",
    "2. Chronological Analysis: \n",
    "    * What is the year-by-year breakdown of applications? \n",
    "    \n",
    "3. Wage Analysis: \n",
    "    * What is the wage distribution between the different states?"
   ]
  },
  {
   "cell_type": "markdown",
   "metadata": {},
   "source": [
    "### Setup "
   ]
  },
  {
   "cell_type": "markdown",
   "metadata": {},
   "source": [
    "Here, we include all the 3rd party dependencies that we need for our project."
   ]
  },
  {
   "cell_type": "code",
   "execution_count": 1,
   "metadata": {
    "scrolled": false
   },
   "outputs": [
    {
     "data": {
      "text/html": [
       "<script>requirejs.config({paths: { 'plotly': ['https://cdn.plot.ly/plotly-latest.min']},});if(!window.Plotly) {{require(['plotly'],function(plotly) {window.Plotly=plotly;});}}</script>"
      ],
      "text/vnd.plotly.v1+html": [
       "<script>requirejs.config({paths: { 'plotly': ['https://cdn.plot.ly/plotly-latest.min']},});if(!window.Plotly) {{require(['plotly'],function(plotly) {window.Plotly=plotly;});}}</script>"
      ]
     },
     "metadata": {},
     "output_type": "display_data"
    }
   ],
   "source": [
    "# Put all the imports here\n",
    "import folium\n",
    "import numpy as np\n",
    "import pandas as pd\n",
    "import plotly as ply\n",
    "import plotly.plotly as py\n",
    "import plotly.figure_factory as ff\n",
    "import plotly.graph_objs as go\n",
    "\n",
    "from geopy.geocoders import Nominatim\n",
    "from matplotlib import pyplot as plt\n",
    "\n",
    "# Make plotly work in offline mode\n",
    "from plotly.offline import init_notebook_mode, plot, iplot\n",
    "init_notebook_mode(connected=True)"
   ]
  },
  {
   "cell_type": "markdown",
   "metadata": {},
   "source": [
    "Read the relevant datasets. The dataset that are common to all the questions here is the H-1B dataset located in `./data/h1b.csv`. You can download this dataset from this [link](https://www.kaggle.com/nsharan/h-1b-visa/data)."
   ]
  },
  {
   "cell_type": "code",
   "execution_count": 2,
   "metadata": {
    "scrolled": false
   },
   "outputs": [],
   "source": [
    "# Load data\n",
    "h1b_frame = pd.read_csv('./data/h1b.csv') # dataset to large, please download from README.md"
   ]
  },
  {
   "cell_type": "markdown",
   "metadata": {},
   "source": [
    "### Geographical Analysis"
   ]
  },
  {
   "cell_type": "markdown",
   "metadata": {},
   "source": [
    " What are the states with the most applicants?**\n",
    " \n",
    "In this section, we'll need another datasets that holds the geo-code and FIPS for each state. This data set is located in `./data/state_geocodes.csv`. "
   ]
  },
  {
   "cell_type": "code",
   "execution_count": 3,
   "metadata": {
    "scrolled": false
   },
   "outputs": [],
   "source": [
    "geo_frame = pd.read_csv('./data/state_geocodes.csv')"
   ]
  },
  {
   "cell_type": "markdown",
   "metadata": {},
   "source": [
    "Here, we collect some information and drop the irrelevant parts. We also add a column with the name of `count` and initialize all the values to 0. This column will store each application count. We also switch the indexing of the Dataframe to use the states name such as 'New York' or 'California' for easier access. \n",
    "\n",
    "The `top_cities` variable holds the top 100 cities. We then iterate through this list and extract the state name. We then increment the count in the `state_frame`. After doing so, we drop the states that have 0 applications. \n",
    "\n",
    "Please note that this particular code only looks at the top 100 cities and then splits it up by states. "
   ]
  },
  {
   "cell_type": "code",
   "execution_count": 5,
   "metadata": {
    "scrolled": false
   },
   "outputs": [],
   "source": [
    "#### Heat Map of Applications by State ######\n",
    "states_frame = geo_frame.drop('fips', axis=1)\n",
    "states_frame['count'] = 0\n",
    "states_frame = states_frame.set_index('name')\n",
    "\n",
    "t = h1b_frame.loc[h1b_frame['CASE_STATUS'] == 'CERTIFIED']['WORKSITE'].value_counts()\n",
    "    \n",
    "for worksite, count in t.items():\n",
    "    locations = worksite.split(',')\n",
    "    state = locations[len(locations)-1].strip().lower().title()\n",
    "    if state in states_frame.index:\n",
    "        states_frame.at[state, 'count'] += count\n",
    "states_frame = states_frame[states_frame['count'] != 0]"
   ]
  },
  {
   "cell_type": "markdown",
   "metadata": {},
   "source": [
    "Now that `states_frame` contains the desired dataframe, we are ready to plot. "
   ]
  },
  {
   "cell_type": "code",
   "execution_count": 6,
   "metadata": {
    "scrolled": false
   },
   "outputs": [
    {
     "data": {
      "text/plain": [
       "<folium.map.LayerControl at 0x105d399e8>"
      ]
     },
     "execution_count": 6,
     "metadata": {},
     "output_type": "execute_result"
    }
   ],
   "source": [
    "# plot\n",
    "map_data = './data/map/us_states.json'\n",
    "m = folium.Map(location=[37, -102], zoom_start=3)\n",
    "\n",
    "m.choropleth(\n",
    " geo_data=map_data,\n",
    " name='2011-2016 H-1B Visa Applications',\n",
    " data=states_frame,\n",
    " columns=['code', 'count'],\n",
    " key_on='feature.id',\n",
    " fill_color='YlGn',\n",
    " fill_opacity=0.7,\n",
    " line_opacity=0.2,\n",
    " legend_name='# of Applications'\n",
    ")\n",
    "m"
   ]
  },
  {
   "cell_type": "markdown",
   "metadata": {},
   "source": [
    "---\n",
    "**What are the states with the most certified applicants?**\n",
    "\n",
    "Now, let's take a deeper look and analyze the whole dataset. First, let's grab all the date that have `CERTIFIED` case status. This means that the company and the individual who applied for the H-1B have met all the requirements. \n",
    "\n",
    "Alongside that, let's create a new dataframe containing state information."
   ]
  },
  {
   "cell_type": "code",
   "execution_count": 8,
   "metadata": {
    "scrolled": false
   },
   "outputs": [],
   "source": [
    "# Certified H1Bs by State\n",
    "t = h1b_frame.loc[h1b_frame['CASE_STATUS'] == 'CERTIFIED']['WORKSITE'].value_counts()\n",
    "\n",
    "states = geo_frame['name'].tolist()\n",
    "states_frame = geo_frame.drop('fips', axis=1)\n",
    "states_frame['count'] = 0\n",
    "states_frame = states_frame.set_index('name')\n",
    "\n",
    "for worksite, count in t.items():\n",
    "    state = worksite.split(',')[1].strip().lower().title()\n",
    "    if state in states_frame.index.values:\n",
    "        states_frame.at[state, 'count'] += count\n",
    "\n",
    "        \n",
    "states_frame = states_frame.sort_values('count')\n",
    "\n",
    "X = states_frame[['code']].values.flatten()\n",
    "Y = states_frame[['count']].values.flatten()"
   ]
  },
  {
   "cell_type": "markdown",
   "metadata": {},
   "source": [
    "After attaining the proper X and Y, we are ready to plot. "
   ]
  },
  {
   "cell_type": "code",
   "execution_count": 9,
   "metadata": {
    "scrolled": true
   },
   "outputs": [
    {
     "data": {
      "application/vnd.plotly.v1+json": {
       "data": [
        {
         "name": "State",
         "text": [
          625,
          803,
          1066,
          1615,
          1676,
          2416,
          2455,
          2951,
          3471,
          3498,
          3529,
          4683,
          6038,
          7914,
          8578,
          8666,
          9077,
          9731,
          10676,
          11129,
          11249,
          11308,
          12040,
          13334,
          14488,
          15907,
          19262,
          20835,
          23830,
          25757,
          27078,
          29271,
          30199,
          37075,
          43855,
          44883,
          47891,
          68507,
          70519,
          72506,
          78441,
          90085,
          91582,
          91728,
          98123,
          100202,
          142306,
          191150,
          249955,
          254951,
          482904
         ],
         "textposition": "auto",
         "type": "bar",
         "x": [
          "WY",
          "MT",
          "AK",
          "SD",
          "VT",
          "WV",
          "ND",
          "HI",
          "ID",
          "ME",
          "MS",
          "NM",
          "NV",
          "NE",
          "AL",
          "NH",
          "OK",
          "LA",
          "RI",
          "SC",
          "KY",
          "UT",
          "KS",
          "AR",
          "IA",
          "DE",
          "DC",
          "OR",
          "TN",
          "IN",
          "CO",
          "WI",
          "MO",
          "AZ",
          "MN",
          "CT",
          "MD",
          "OH",
          "NC",
          "MI",
          "VA",
          "WA",
          "GA",
          "FL",
          "PA",
          "MA",
          "IL",
          "NJ",
          "NY",
          "TX",
          "CA"
         ],
         "y": [
          625,
          803,
          1066,
          1615,
          1676,
          2416,
          2455,
          2951,
          3471,
          3498,
          3529,
          4683,
          6038,
          7914,
          8578,
          8666,
          9077,
          9731,
          10676,
          11129,
          11249,
          11308,
          12040,
          13334,
          14488,
          15907,
          19262,
          20835,
          23830,
          25757,
          27078,
          29271,
          30199,
          37075,
          43855,
          44883,
          47891,
          68507,
          70519,
          72506,
          78441,
          90085,
          91582,
          91728,
          98123,
          100202,
          142306,
          191150,
          249955,
          254951,
          482904
         ]
        }
       ],
       "layout": {
        "barmode": "stack",
        "title": "H1Bs by State"
       }
      },
      "text/html": [
       "<div id=\"4020a604-8217-4563-8fef-96dee1aa6a02\" style=\"height: 525px; width: 100%;\" class=\"plotly-graph-div\"></div><script type=\"text/javascript\">require([\"plotly\"], function(Plotly) { window.PLOTLYENV=window.PLOTLYENV || {};window.PLOTLYENV.BASE_URL=\"https://plot.ly\";Plotly.newPlot(\"4020a604-8217-4563-8fef-96dee1aa6a02\", [{\"type\": \"bar\", \"x\": [\"WY\", \"MT\", \"AK\", \"SD\", \"VT\", \"WV\", \"ND\", \"HI\", \"ID\", \"ME\", \"MS\", \"NM\", \"NV\", \"NE\", \"AL\", \"NH\", \"OK\", \"LA\", \"RI\", \"SC\", \"KY\", \"UT\", \"KS\", \"AR\", \"IA\", \"DE\", \"DC\", \"OR\", \"TN\", \"IN\", \"CO\", \"WI\", \"MO\", \"AZ\", \"MN\", \"CT\", \"MD\", \"OH\", \"NC\", \"MI\", \"VA\", \"WA\", \"GA\", \"FL\", \"PA\", \"MA\", \"IL\", \"NJ\", \"NY\", \"TX\", \"CA\"], \"y\": [625, 803, 1066, 1615, 1676, 2416, 2455, 2951, 3471, 3498, 3529, 4683, 6038, 7914, 8578, 8666, 9077, 9731, 10676, 11129, 11249, 11308, 12040, 13334, 14488, 15907, 19262, 20835, 23830, 25757, 27078, 29271, 30199, 37075, 43855, 44883, 47891, 68507, 70519, 72506, 78441, 90085, 91582, 91728, 98123, 100202, 142306, 191150, 249955, 254951, 482904], \"name\": \"State\", \"text\": [625, 803, 1066, 1615, 1676, 2416, 2455, 2951, 3471, 3498, 3529, 4683, 6038, 7914, 8578, 8666, 9077, 9731, 10676, 11129, 11249, 11308, 12040, 13334, 14488, 15907, 19262, 20835, 23830, 25757, 27078, 29271, 30199, 37075, 43855, 44883, 47891, 68507, 70519, 72506, 78441, 90085, 91582, 91728, 98123, 100202, 142306, 191150, 249955, 254951, 482904], \"textposition\": \"auto\"}], {\"title\": \"H1Bs by State\", \"barmode\": \"stack\"}, {\"showLink\": true, \"linkText\": \"Export to plot.ly\"})});</script>"
      ],
      "text/vnd.plotly.v1+html": [
       "<div id=\"4020a604-8217-4563-8fef-96dee1aa6a02\" style=\"height: 525px; width: 100%;\" class=\"plotly-graph-div\"></div><script type=\"text/javascript\">require([\"plotly\"], function(Plotly) { window.PLOTLYENV=window.PLOTLYENV || {};window.PLOTLYENV.BASE_URL=\"https://plot.ly\";Plotly.newPlot(\"4020a604-8217-4563-8fef-96dee1aa6a02\", [{\"type\": \"bar\", \"x\": [\"WY\", \"MT\", \"AK\", \"SD\", \"VT\", \"WV\", \"ND\", \"HI\", \"ID\", \"ME\", \"MS\", \"NM\", \"NV\", \"NE\", \"AL\", \"NH\", \"OK\", \"LA\", \"RI\", \"SC\", \"KY\", \"UT\", \"KS\", \"AR\", \"IA\", \"DE\", \"DC\", \"OR\", \"TN\", \"IN\", \"CO\", \"WI\", \"MO\", \"AZ\", \"MN\", \"CT\", \"MD\", \"OH\", \"NC\", \"MI\", \"VA\", \"WA\", \"GA\", \"FL\", \"PA\", \"MA\", \"IL\", \"NJ\", \"NY\", \"TX\", \"CA\"], \"y\": [625, 803, 1066, 1615, 1676, 2416, 2455, 2951, 3471, 3498, 3529, 4683, 6038, 7914, 8578, 8666, 9077, 9731, 10676, 11129, 11249, 11308, 12040, 13334, 14488, 15907, 19262, 20835, 23830, 25757, 27078, 29271, 30199, 37075, 43855, 44883, 47891, 68507, 70519, 72506, 78441, 90085, 91582, 91728, 98123, 100202, 142306, 191150, 249955, 254951, 482904], \"name\": \"State\", \"text\": [625, 803, 1066, 1615, 1676, 2416, 2455, 2951, 3471, 3498, 3529, 4683, 6038, 7914, 8578, 8666, 9077, 9731, 10676, 11129, 11249, 11308, 12040, 13334, 14488, 15907, 19262, 20835, 23830, 25757, 27078, 29271, 30199, 37075, 43855, 44883, 47891, 68507, 70519, 72506, 78441, 90085, 91582, 91728, 98123, 100202, 142306, 191150, 249955, 254951, 482904], \"textposition\": \"auto\"}], {\"title\": \"H1Bs by State\", \"barmode\": \"stack\"}, {\"showLink\": true, \"linkText\": \"Export to plot.ly\"})});</script>"
      ]
     },
     "metadata": {},
     "output_type": "display_data"
    }
   ],
   "source": [
    "trace_states = go.Bar(\n",
    "    x=X, \n",
    "    y=Y, \n",
    "    name=\"State\", \n",
    "    text=Y, \n",
    "    textposition = 'auto')\n",
    "\n",
    "data = [trace_states]\n",
    "layout = go.Layout(\n",
    "    title=\"H1Bs by State\",\n",
    "    barmode='stack'  \n",
    ")\n",
    "fig = go.Figure(\n",
    "    data=data, \n",
    "    layout=layout\n",
    ")\n",
    "iplot(fig, \n",
    "      filename='stacked-bar', \n",
    ")"
   ]
  },
  {
   "cell_type": "markdown",
   "metadata": {},
   "source": [
    "Let's narrow down and look at the top 10 states. This can be done by simply adjusting the indexing of X and Y."
   ]
  },
  {
   "cell_type": "code",
   "execution_count": 10,
   "metadata": {
    "scrolled": true
   },
   "outputs": [
    {
     "data": {
      "application/vnd.plotly.v1+json": {
       "data": [
        {
         "name": "State",
         "text": [
          90085,
          91582,
          91728,
          98123,
          100202,
          142306,
          191150,
          249955,
          254951,
          482904
         ],
         "textposition": "auto",
         "type": "bar",
         "x": [
          "WA",
          "GA",
          "FL",
          "PA",
          "MA",
          "IL",
          "NJ",
          "NY",
          "TX",
          "CA"
         ],
         "y": [
          90085,
          91582,
          91728,
          98123,
          100202,
          142306,
          191150,
          249955,
          254951,
          482904
         ]
        }
       ],
       "layout": {
        "barmode": "stack",
        "title": "H1Bs by State"
       }
      },
      "text/html": [
       "<div id=\"c75bfbf4-235b-42b0-990f-f07d6c58e3f6\" style=\"height: 525px; width: 100%;\" class=\"plotly-graph-div\"></div><script type=\"text/javascript\">require([\"plotly\"], function(Plotly) { window.PLOTLYENV=window.PLOTLYENV || {};window.PLOTLYENV.BASE_URL=\"https://plot.ly\";Plotly.newPlot(\"c75bfbf4-235b-42b0-990f-f07d6c58e3f6\", [{\"type\": \"bar\", \"x\": [\"WA\", \"GA\", \"FL\", \"PA\", \"MA\", \"IL\", \"NJ\", \"NY\", \"TX\", \"CA\"], \"y\": [90085, 91582, 91728, 98123, 100202, 142306, 191150, 249955, 254951, 482904], \"name\": \"State\", \"text\": [90085, 91582, 91728, 98123, 100202, 142306, 191150, 249955, 254951, 482904], \"textposition\": \"auto\"}], {\"title\": \"H1Bs by State\", \"barmode\": \"stack\"}, {\"showLink\": true, \"linkText\": \"Export to plot.ly\"})});</script>"
      ],
      "text/vnd.plotly.v1+html": [
       "<div id=\"c75bfbf4-235b-42b0-990f-f07d6c58e3f6\" style=\"height: 525px; width: 100%;\" class=\"plotly-graph-div\"></div><script type=\"text/javascript\">require([\"plotly\"], function(Plotly) { window.PLOTLYENV=window.PLOTLYENV || {};window.PLOTLYENV.BASE_URL=\"https://plot.ly\";Plotly.newPlot(\"c75bfbf4-235b-42b0-990f-f07d6c58e3f6\", [{\"type\": \"bar\", \"x\": [\"WA\", \"GA\", \"FL\", \"PA\", \"MA\", \"IL\", \"NJ\", \"NY\", \"TX\", \"CA\"], \"y\": [90085, 91582, 91728, 98123, 100202, 142306, 191150, 249955, 254951, 482904], \"name\": \"State\", \"text\": [90085, 91582, 91728, 98123, 100202, 142306, 191150, 249955, 254951, 482904], \"textposition\": \"auto\"}], {\"title\": \"H1Bs by State\", \"barmode\": \"stack\"}, {\"showLink\": true, \"linkText\": \"Export to plot.ly\"})});</script>"
      ]
     },
     "metadata": {},
     "output_type": "display_data"
    }
   ],
   "source": [
    "# Top 10 states \n",
    "X = states_frame[['code']].values.flatten()[-10:]\n",
    "Y = states_frame[['count']].values.flatten()[-10:]\n",
    "trace_states = go.Bar(x=X, \n",
    "                    y=Y, \n",
    "                    name=\"State\", \n",
    "                    text=Y, \n",
    "                    textposition = 'auto')\n",
    "\n",
    "data = [trace_states]\n",
    "layout = go.Layout(\n",
    "    title=\"H1Bs by State\",\n",
    "    barmode='stack'  \n",
    ")\n",
    "fig = go.Figure(\n",
    "    data=data, \n",
    "    layout=layout\n",
    ")\n",
    "iplot(fig, \n",
    "      filename='stacked-bar', \n",
    ")"
   ]
  },
  {
   "cell_type": "markdown",
   "metadata": {},
   "source": [
    "---\n",
    "**What is the location breakdown of number of applications for the top 3 state?**\n",
    "\n",
    "In order to do this, let write a method that takes in a dataframe and state and plots the choropleth of the data. "
   ]
  },
  {
   "cell_type": "code",
   "execution_count": 18,
   "metadata": {
    "scrolled": true
   },
   "outputs": [],
   "source": [
    "geolocator = Nominatim(scheme='http')\n",
    "def get_county(coordinate):\n",
    "    location = geolocator.reverse(f'{coordinate[0]}, {coordinate[1]}')\n",
    "    return location.raw['address']['county']"
   ]
  },
  {
   "cell_type": "code",
   "execution_count": 21,
   "metadata": {
    "scrolled": true
   },
   "outputs": [],
   "source": [
    "def number_by_state(frame, state):\n",
    "    # Transforming Data\n",
    "    data = frame[frame['CASE_STATUS'] == 'CERTIFIED'][frame['WORKSITE'].str.contains(state.upper())]\n",
    "    data = data[np.isfinite(data['lat']) & np.isfinite(data['lon'])]\n",
    "    fips_frame = pd.read_csv('./data/county_geocodes.csv', dtype=str)\n",
    "    fips_frame = fips_frame.set_index('Name')\n",
    "    fips_frame['fips'] = fips_frame['State'] + fips_frame['County']\n",
    "    state_code = fips_frame.at[state, 'State']\n",
    "    fips_frame = fips_frame[fips_frame['State'] == state_code]\n",
    "\n",
    "    # Setting up fresh Data Frame\n",
    "    columns = ['name', 'count', 'lat', 'lon', 'county', 'fips']\n",
    "    df = pd.DataFrame(columns=columns)\n",
    "    df = df.set_index('name')\n",
    "   \n",
    "    for index, row in data.iterrows():\n",
    "        city = row['WORKSITE']\n",
    "        if city in df.index:\n",
    "            df.at[city, 'count'] += 1\n",
    "        else:\n",
    "            lat = row['lat']\n",
    "            lon = row['lon']\n",
    "            county = get_county( (lat, lon) )\n",
    "            if county in fips_frame.index:\n",
    "                fips_code = fips_frame.at[county, 'fips']\n",
    "            else:\n",
    "                print(f'Unable to process {county}')\n",
    "            df.loc[city] = [1, lat, lon, county, fips_code]\n",
    "\n",
    "    df = df[df['count'] != 0]\n",
    "    df = df.sort_values(by='count')\n",
    "    # print(df)\n",
    "\n",
    "    values = df['count'].tolist()\n",
    "    fips = df['fips'].tolist()\n",
    "\n",
    "    # Plotting\n",
    "    colorscale = [\n",
    "        'rgb(193, 193, 193)',\n",
    "        'rgb(239,239,239)',\n",
    "        'rgb(195, 196, 222)',\n",
    "        'rgb(144,148,194)',\n",
    "        'rgb(101,104,168)',\n",
    "        'rgb(65, 53, 132)'\n",
    "    ]\n",
    "\n",
    "    scope = None\n",
    "    if state is 'California':\n",
    "        scope = 'CA'\n",
    "    elif state is 'New York':\n",
    "        scope = 'NY'\n",
    "    elif state is 'Texas':\n",
    "        scope = 'TX'\n",
    "\n",
    "    fig = ff.create_choropleth(\n",
    "        fips=fips, values=values, scope=[scope],\n",
    "        binning_endpoints=[10, 100, 500, 1000, 10000], colorscale=colorscale,\n",
    "        county_outline={'color': 'rgb(255,255,255)', 'width': 0.5}, round_legend_values=True,\n",
    "        legend_title='# of Applications', title='Applications by County'\n",
    "    )\n",
    "    \n",
    "    iplot(fig, filename=state)"
   ]
  },
  {
   "cell_type": "markdown",
   "metadata": {},
   "source": [
    "Using our previous findings, the top 3 states are California, Texas, and New York. You can ignore any `UserWarning`. \n",
    "Note that I wasn't able to get `geolocator` to work in the notebook. Hence, these are commented out. \n",
    "\n",
    "* California"
   ]
  },
  {
   "cell_type": "code",
   "execution_count": 26,
   "metadata": {
    "scrolled": true
   },
   "outputs": [],
   "source": [
    "# number_by_state(h1b_frame, 'California')"
   ]
  },
  {
   "cell_type": "markdown",
   "metadata": {},
   "source": [
    "* Texas"
   ]
  },
  {
   "cell_type": "code",
   "execution_count": 27,
   "metadata": {
    "scrolled": true
   },
   "outputs": [],
   "source": [
    "# number_by_state(h1b_frame, 'Texas')"
   ]
  },
  {
   "cell_type": "markdown",
   "metadata": {},
   "source": [
    "* New York"
   ]
  },
  {
   "cell_type": "code",
   "execution_count": 28,
   "metadata": {
    "scrolled": true
   },
   "outputs": [],
   "source": [
    "# number_by_state(h1b_frame, 'New York')"
   ]
  },
  {
   "cell_type": "markdown",
   "metadata": {},
   "source": [
    "---\n",
    "**Who is the top Employer per State?**\n",
    "\n",
    "This question is very interesting. We figured that different states would have different top employers due to the dominant industry of that give state. "
   ]
  },
  {
   "cell_type": "code",
   "execution_count": 30,
   "metadata": {
    "scrolled": true
   },
   "outputs": [
    {
     "name": "stderr",
     "output_type": "stream",
     "text": [
      "/Library/Frameworks/Python.framework/Versions/3.6/lib/python3.6/site-packages/ipykernel_launcher.py:7: UserWarning:\n",
      "\n",
      "Boolean Series key will be reindexed to match DataFrame index.\n",
      "\n"
     ]
    }
   ],
   "source": [
    "states_frame = geo_frame.drop('fips', axis=1)\n",
    "states_frame['top_employer'] = ''\n",
    "states_frame['count'] = 0\n",
    "states_frame = states_frame.set_index('name')\n",
    "\n",
    "for state in states_frame.index:\n",
    "    data = h1b_frame[h1b_frame['CASE_STATUS'] == 'CERTIFIED'][h1b_frame['WORKSITE'].str.contains(state.upper())]\n",
    "    counts = data['EMPLOYER_NAME'].value_counts()\n",
    "    top_employer = counts.keys().tolist()[0]\n",
    "    top_count = counts.tolist()[0]\n",
    "    states_frame.at[state, 'top_employer'] = top_employer\n",
    "    states_frame.at[state, 'count'] = top_count\n",
    "\n",
    "states_frame = states_frame.sort_values('count')\n",
    "# print(states_frame)\n",
    "# states_frame.to_csv('../data/top_employer_by_state.csv')"
   ]
  },
  {
   "cell_type": "markdown",
   "metadata": {},
   "source": [
    "Now, that `states_frame` is ready again, we can get to plotting."
   ]
  },
  {
   "cell_type": "code",
   "execution_count": 31,
   "metadata": {
    "scrolled": true
   },
   "outputs": [
    {
     "data": {
      "application/vnd.plotly.v1+json": {
       "data": [
        {
         "name": "State",
         "text": [
          "MONTANA STATE UNIVERSITY",
          "UNIVERSITY OF ALASKA",
          "THE UNIVERSITY OF VERMONT",
          "UNIVERSITY OF WYOMING",
          "NORTH DAKOTA STATE UNIVERSITY",
          "UNIVERSITY OF NEVADA, RENO",
          "UNIVERSITY OF MISSISSIPPI MEDICAL CENTER",
          "TATA CONSULTANCY SERVICES LIMITED",
          "WEST VIRGINIA UNIVERSITY",
          "RITE PROS INC",
          "LOS ALAMOS NATIONAL SECURITY, LLC",
          "UNIVERSITY OF HAWAII",
          "UNIVERSITY OF OKLAHOMA",
          "BOARD OF REGENTS OF THE UNIVERSITY OF NEBRASKA",
          "INFOSYS LIMITED",
          "WIPRO LIMITED",
          "INFOSYS LIMITED",
          "TATA CONSULTANCY SERVICES LIMITED",
          "MICRON TECHNOLOGY, INC.",
          "IBM INDIA PRIVATE LIMITED",
          "THE UNIV. OF ALA. AT BIRMINGHAM (UAB)",
          "THE UNIVERSITY OF IOWA",
          "SYNECHRON, INC.",
          "TATA CONSULTANCY SERVICES LIMITED",
          "JOHNS HOPKINS UNIVERSITY",
          "INFOSYS LIMITED",
          "INFOSYS LIMITED",
          "CAPITAL ONE SERVICES, LLC",
          "INFOSYS LIMITED",
          "INFOSYS LIMITED",
          "UNIVERSITY OF MICHIGAN",
          "INFOSYS LIMITED",
          "CUMMINS INC.",
          "INFOSYS LIMITED",
          "WIPRO LIMITED",
          "INFOSYS LIMITED",
          "TATA CONSULTANCY SERVICES LIMITED",
          "INTEL CORPORATION",
          "INFOSYS LIMITED",
          "TATA CONSULTANCY SERVICES LIMITED",
          "INFOSYS LIMITED",
          "INFOSYS LIMITED",
          "INFOSYS LIMITED",
          "INFOSYS LIMITED",
          "INFOSYS LIMITED",
          "DELOITTE CONSULTING LLP",
          "INFOSYS LIMITED",
          "INFOSYS LIMITED",
          "INFOSYS LIMITED",
          "MICROSOFT CORPORATION",
          "INFOSYS LIMITED"
         ],
         "textposition": "auto",
         "type": "bar",
         "x": [
          "MT",
          "AK",
          "VT",
          "WY",
          "ND",
          "NV",
          "MS",
          "SD",
          "WV",
          "ME",
          "NM",
          "HI",
          "OK",
          "NE",
          "DC",
          "SC",
          "NH",
          "KY",
          "ID",
          "LA",
          "AL",
          "IA",
          "TN",
          "DE",
          "MD",
          "MO",
          "UT",
          "VA",
          "CO",
          "AR",
          "MI",
          "RI",
          "IN",
          "KS",
          "MA",
          "WI",
          "MN",
          "OR",
          "FL",
          "OH",
          "CT",
          "GA",
          "NY",
          "AZ",
          "NJ",
          "PA",
          "NC",
          "IL",
          "TX",
          "WA",
          "CA"
         ],
         "y": [
          105,
          114,
          139,
          162,
          166,
          222,
          266,
          319,
          321,
          330,
          353,
          397,
          408,
          434,
          437,
          440,
          695,
          803,
          830,
          835,
          946,
          1098,
          1135,
          1172,
          1449,
          1532,
          1780,
          1805,
          1871,
          2057,
          2177,
          2465,
          2682,
          2994,
          3286,
          3577,
          3801,
          4018,
          4043,
          4060,
          4556,
          4686,
          4934,
          5641,
          6444,
          7764,
          8770,
          8975,
          13741,
          19370,
          23597
         ]
        }
       ],
       "layout": {
        "barmode": "stack",
        "title": "H1Bs by State"
       }
      },
      "text/html": [
       "<div id=\"3cadc0f4-3a42-47c8-ac6b-ec8f73f67f8f\" style=\"height: 525px; width: 100%;\" class=\"plotly-graph-div\"></div><script type=\"text/javascript\">require([\"plotly\"], function(Plotly) { window.PLOTLYENV=window.PLOTLYENV || {};window.PLOTLYENV.BASE_URL=\"https://plot.ly\";Plotly.newPlot(\"3cadc0f4-3a42-47c8-ac6b-ec8f73f67f8f\", [{\"type\": \"bar\", \"x\": [\"MT\", \"AK\", \"VT\", \"WY\", \"ND\", \"NV\", \"MS\", \"SD\", \"WV\", \"ME\", \"NM\", \"HI\", \"OK\", \"NE\", \"DC\", \"SC\", \"NH\", \"KY\", \"ID\", \"LA\", \"AL\", \"IA\", \"TN\", \"DE\", \"MD\", \"MO\", \"UT\", \"VA\", \"CO\", \"AR\", \"MI\", \"RI\", \"IN\", \"KS\", \"MA\", \"WI\", \"MN\", \"OR\", \"FL\", \"OH\", \"CT\", \"GA\", \"NY\", \"AZ\", \"NJ\", \"PA\", \"NC\", \"IL\", \"TX\", \"WA\", \"CA\"], \"y\": [105, 114, 139, 162, 166, 222, 266, 319, 321, 330, 353, 397, 408, 434, 437, 440, 695, 803, 830, 835, 946, 1098, 1135, 1172, 1449, 1532, 1780, 1805, 1871, 2057, 2177, 2465, 2682, 2994, 3286, 3577, 3801, 4018, 4043, 4060, 4556, 4686, 4934, 5641, 6444, 7764, 8770, 8975, 13741, 19370, 23597], \"name\": \"State\", \"text\": [\"MONTANA STATE UNIVERSITY\", \"UNIVERSITY OF ALASKA\", \"THE UNIVERSITY OF VERMONT\", \"UNIVERSITY OF WYOMING\", \"NORTH DAKOTA STATE UNIVERSITY\", \"UNIVERSITY OF NEVADA, RENO\", \"UNIVERSITY OF MISSISSIPPI MEDICAL CENTER\", \"TATA CONSULTANCY SERVICES LIMITED\", \"WEST VIRGINIA UNIVERSITY\", \"RITE PROS INC\", \"LOS ALAMOS NATIONAL SECURITY, LLC\", \"UNIVERSITY OF HAWAII\", \"UNIVERSITY OF OKLAHOMA\", \"BOARD OF REGENTS OF THE UNIVERSITY OF NEBRASKA\", \"INFOSYS LIMITED\", \"WIPRO LIMITED\", \"INFOSYS LIMITED\", \"TATA CONSULTANCY SERVICES LIMITED\", \"MICRON TECHNOLOGY, INC.\", \"IBM INDIA PRIVATE LIMITED\", \"THE UNIV. OF ALA. AT BIRMINGHAM (UAB)\", \"THE UNIVERSITY OF IOWA\", \"SYNECHRON, INC.\", \"TATA CONSULTANCY SERVICES LIMITED\", \"JOHNS HOPKINS UNIVERSITY\", \"INFOSYS LIMITED\", \"INFOSYS LIMITED\", \"CAPITAL ONE SERVICES, LLC\", \"INFOSYS LIMITED\", \"INFOSYS LIMITED\", \"UNIVERSITY OF MICHIGAN\", \"INFOSYS LIMITED\", \"CUMMINS INC.\", \"INFOSYS LIMITED\", \"WIPRO LIMITED\", \"INFOSYS LIMITED\", \"TATA CONSULTANCY SERVICES LIMITED\", \"INTEL CORPORATION\", \"INFOSYS LIMITED\", \"TATA CONSULTANCY SERVICES LIMITED\", \"INFOSYS LIMITED\", \"INFOSYS LIMITED\", \"INFOSYS LIMITED\", \"INFOSYS LIMITED\", \"INFOSYS LIMITED\", \"DELOITTE CONSULTING LLP\", \"INFOSYS LIMITED\", \"INFOSYS LIMITED\", \"INFOSYS LIMITED\", \"MICROSOFT CORPORATION\", \"INFOSYS LIMITED\"], \"textposition\": \"auto\"}], {\"title\": \"H1Bs by State\", \"barmode\": \"stack\"}, {\"showLink\": true, \"linkText\": \"Export to plot.ly\"})});</script>"
      ],
      "text/vnd.plotly.v1+html": [
       "<div id=\"3cadc0f4-3a42-47c8-ac6b-ec8f73f67f8f\" style=\"height: 525px; width: 100%;\" class=\"plotly-graph-div\"></div><script type=\"text/javascript\">require([\"plotly\"], function(Plotly) { window.PLOTLYENV=window.PLOTLYENV || {};window.PLOTLYENV.BASE_URL=\"https://plot.ly\";Plotly.newPlot(\"3cadc0f4-3a42-47c8-ac6b-ec8f73f67f8f\", [{\"type\": \"bar\", \"x\": [\"MT\", \"AK\", \"VT\", \"WY\", \"ND\", \"NV\", \"MS\", \"SD\", \"WV\", \"ME\", \"NM\", \"HI\", \"OK\", \"NE\", \"DC\", \"SC\", \"NH\", \"KY\", \"ID\", \"LA\", \"AL\", \"IA\", \"TN\", \"DE\", \"MD\", \"MO\", \"UT\", \"VA\", \"CO\", \"AR\", \"MI\", \"RI\", \"IN\", \"KS\", \"MA\", \"WI\", \"MN\", \"OR\", \"FL\", \"OH\", \"CT\", \"GA\", \"NY\", \"AZ\", \"NJ\", \"PA\", \"NC\", \"IL\", \"TX\", \"WA\", \"CA\"], \"y\": [105, 114, 139, 162, 166, 222, 266, 319, 321, 330, 353, 397, 408, 434, 437, 440, 695, 803, 830, 835, 946, 1098, 1135, 1172, 1449, 1532, 1780, 1805, 1871, 2057, 2177, 2465, 2682, 2994, 3286, 3577, 3801, 4018, 4043, 4060, 4556, 4686, 4934, 5641, 6444, 7764, 8770, 8975, 13741, 19370, 23597], \"name\": \"State\", \"text\": [\"MONTANA STATE UNIVERSITY\", \"UNIVERSITY OF ALASKA\", \"THE UNIVERSITY OF VERMONT\", \"UNIVERSITY OF WYOMING\", \"NORTH DAKOTA STATE UNIVERSITY\", \"UNIVERSITY OF NEVADA, RENO\", \"UNIVERSITY OF MISSISSIPPI MEDICAL CENTER\", \"TATA CONSULTANCY SERVICES LIMITED\", \"WEST VIRGINIA UNIVERSITY\", \"RITE PROS INC\", \"LOS ALAMOS NATIONAL SECURITY, LLC\", \"UNIVERSITY OF HAWAII\", \"UNIVERSITY OF OKLAHOMA\", \"BOARD OF REGENTS OF THE UNIVERSITY OF NEBRASKA\", \"INFOSYS LIMITED\", \"WIPRO LIMITED\", \"INFOSYS LIMITED\", \"TATA CONSULTANCY SERVICES LIMITED\", \"MICRON TECHNOLOGY, INC.\", \"IBM INDIA PRIVATE LIMITED\", \"THE UNIV. OF ALA. AT BIRMINGHAM (UAB)\", \"THE UNIVERSITY OF IOWA\", \"SYNECHRON, INC.\", \"TATA CONSULTANCY SERVICES LIMITED\", \"JOHNS HOPKINS UNIVERSITY\", \"INFOSYS LIMITED\", \"INFOSYS LIMITED\", \"CAPITAL ONE SERVICES, LLC\", \"INFOSYS LIMITED\", \"INFOSYS LIMITED\", \"UNIVERSITY OF MICHIGAN\", \"INFOSYS LIMITED\", \"CUMMINS INC.\", \"INFOSYS LIMITED\", \"WIPRO LIMITED\", \"INFOSYS LIMITED\", \"TATA CONSULTANCY SERVICES LIMITED\", \"INTEL CORPORATION\", \"INFOSYS LIMITED\", \"TATA CONSULTANCY SERVICES LIMITED\", \"INFOSYS LIMITED\", \"INFOSYS LIMITED\", \"INFOSYS LIMITED\", \"INFOSYS LIMITED\", \"INFOSYS LIMITED\", \"DELOITTE CONSULTING LLP\", \"INFOSYS LIMITED\", \"INFOSYS LIMITED\", \"INFOSYS LIMITED\", \"MICROSOFT CORPORATION\", \"INFOSYS LIMITED\"], \"textposition\": \"auto\"}], {\"title\": \"H1Bs by State\", \"barmode\": \"stack\"}, {\"showLink\": true, \"linkText\": \"Export to plot.ly\"})});</script>"
      ]
     },
     "metadata": {},
     "output_type": "display_data"
    }
   ],
   "source": [
    "X = states_frame[['code']].values.flatten()\n",
    "Y = states_frame[['count']].values.flatten()\n",
    "text = states_frame[['top_employer']].values.flatten()\n",
    "\n",
    "trace_states = go.Bar(\n",
    "    x=X, \n",
    "    y=Y, \n",
    "    name=\"State\", \n",
    "    text=text, \n",
    "    textposition = 'auto')\n",
    "\n",
    "data = [trace_states]\n",
    "layout = go.Layout(title=\"H1Bs by State\", barmode='stack')\n",
    "fig = go.Figure(data=data, layout=layout)\n",
    "iplot(fig, filename='stacked-bar')"
   ]
  },
  {
   "cell_type": "markdown",
   "metadata": {},
   "source": [
    "Let's focus on the top 10 states..."
   ]
  },
  {
   "cell_type": "code",
   "execution_count": 32,
   "metadata": {
    "scrolled": true
   },
   "outputs": [
    {
     "data": {
      "application/vnd.plotly.v1+json": {
       "data": [
        {
         "name": "State",
         "text": [
          "INFOSYS LIMITED",
          "INFOSYS LIMITED",
          "INFOSYS LIMITED",
          "INFOSYS LIMITED",
          "DELOITTE CONSULTING LLP",
          "INFOSYS LIMITED",
          "INFOSYS LIMITED",
          "INFOSYS LIMITED",
          "MICROSOFT CORPORATION",
          "INFOSYS LIMITED"
         ],
         "textposition": "auto",
         "type": "bar",
         "x": [
          "GA",
          "NY",
          "AZ",
          "NJ",
          "PA",
          "NC",
          "IL",
          "TX",
          "WA",
          "CA"
         ],
         "y": [
          4686,
          4934,
          5641,
          6444,
          7764,
          8770,
          8975,
          13741,
          19370,
          23597
         ]
        }
       ],
       "layout": {
        "barmode": "stack",
        "title": "H1Bs by State"
       }
      },
      "text/html": [
       "<div id=\"e94c4e0d-a81f-414e-b702-caa4821c4b51\" style=\"height: 525px; width: 100%;\" class=\"plotly-graph-div\"></div><script type=\"text/javascript\">require([\"plotly\"], function(Plotly) { window.PLOTLYENV=window.PLOTLYENV || {};window.PLOTLYENV.BASE_URL=\"https://plot.ly\";Plotly.newPlot(\"e94c4e0d-a81f-414e-b702-caa4821c4b51\", [{\"type\": \"bar\", \"x\": [\"GA\", \"NY\", \"AZ\", \"NJ\", \"PA\", \"NC\", \"IL\", \"TX\", \"WA\", \"CA\"], \"y\": [4686, 4934, 5641, 6444, 7764, 8770, 8975, 13741, 19370, 23597], \"name\": \"State\", \"text\": [\"INFOSYS LIMITED\", \"INFOSYS LIMITED\", \"INFOSYS LIMITED\", \"INFOSYS LIMITED\", \"DELOITTE CONSULTING LLP\", \"INFOSYS LIMITED\", \"INFOSYS LIMITED\", \"INFOSYS LIMITED\", \"MICROSOFT CORPORATION\", \"INFOSYS LIMITED\"], \"textposition\": \"auto\"}], {\"title\": \"H1Bs by State\", \"barmode\": \"stack\"}, {\"showLink\": true, \"linkText\": \"Export to plot.ly\"})});</script>"
      ],
      "text/vnd.plotly.v1+html": [
       "<div id=\"e94c4e0d-a81f-414e-b702-caa4821c4b51\" style=\"height: 525px; width: 100%;\" class=\"plotly-graph-div\"></div><script type=\"text/javascript\">require([\"plotly\"], function(Plotly) { window.PLOTLYENV=window.PLOTLYENV || {};window.PLOTLYENV.BASE_URL=\"https://plot.ly\";Plotly.newPlot(\"e94c4e0d-a81f-414e-b702-caa4821c4b51\", [{\"type\": \"bar\", \"x\": [\"GA\", \"NY\", \"AZ\", \"NJ\", \"PA\", \"NC\", \"IL\", \"TX\", \"WA\", \"CA\"], \"y\": [4686, 4934, 5641, 6444, 7764, 8770, 8975, 13741, 19370, 23597], \"name\": \"State\", \"text\": [\"INFOSYS LIMITED\", \"INFOSYS LIMITED\", \"INFOSYS LIMITED\", \"INFOSYS LIMITED\", \"DELOITTE CONSULTING LLP\", \"INFOSYS LIMITED\", \"INFOSYS LIMITED\", \"INFOSYS LIMITED\", \"MICROSOFT CORPORATION\", \"INFOSYS LIMITED\"], \"textposition\": \"auto\"}], {\"title\": \"H1Bs by State\", \"barmode\": \"stack\"}, {\"showLink\": true, \"linkText\": \"Export to plot.ly\"})});</script>"
      ]
     },
     "metadata": {},
     "output_type": "display_data"
    }
   ],
   "source": [
    "states_frame = states_frame[-10:]\n",
    "X = states_frame[['code']].values.flatten()\n",
    "Y = states_frame[['count']].values.flatten()\n",
    "text = states_frame[['top_employer']].values.flatten()\n",
    "\n",
    "trace_states = go.Bar(\n",
    "    x=X, \n",
    "    y=Y, \n",
    "    name=\"State\", \n",
    "    text=text, \n",
    "    textposition = 'auto')\n",
    "\n",
    "data = [trace_states]\n",
    "layout = go.Layout(title=\"H1Bs by State\", barmode='stack')\n",
    "fig = go.Figure(data=data, layout=layout)\n",
    "iplot(fig, filename='stacked-bar')"
   ]
  },
  {
   "cell_type": "markdown",
   "metadata": {},
   "source": [
    "We see that INFOSYS LIMITED is an overwhelming favorite for applying for an H-1B visa."
   ]
  },
  {
   "cell_type": "markdown",
   "metadata": {},
   "source": [
    "---\n",
    "**What is the Average Salary of the Top Employer of each state?**\n",
    "\n",
    "Now that we are aware of the top company that applies for H-1B visas. Let's figure out what is the average salary they offer their employees."
   ]
  },
  {
   "cell_type": "code",
   "execution_count": 36,
   "metadata": {
    "scrolled": true
   },
   "outputs": [
    {
     "name": "stderr",
     "output_type": "stream",
     "text": [
      "/Library/Frameworks/Python.framework/Versions/3.6/lib/python3.6/site-packages/ipykernel_launcher.py:7: UserWarning:\n",
      "\n",
      "Boolean Series key will be reindexed to match DataFrame index.\n",
      "\n"
     ]
    },
    {
     "data": {
      "text/html": [
       "<div>\n",
       "<style scoped>\n",
       "    .dataframe tbody tr th:only-of-type {\n",
       "        vertical-align: middle;\n",
       "    }\n",
       "\n",
       "    .dataframe tbody tr th {\n",
       "        vertical-align: top;\n",
       "    }\n",
       "\n",
       "    .dataframe thead th {\n",
       "        text-align: right;\n",
       "    }\n",
       "</style>\n",
       "<table border=\"1\" class=\"dataframe\">\n",
       "  <thead>\n",
       "    <tr style=\"text-align: right;\">\n",
       "      <th></th>\n",
       "      <th>code</th>\n",
       "      <th>top_employer</th>\n",
       "      <th>count</th>\n",
       "      <th>average_salary</th>\n",
       "    </tr>\n",
       "    <tr>\n",
       "      <th>name</th>\n",
       "      <th></th>\n",
       "      <th></th>\n",
       "      <th></th>\n",
       "      <th></th>\n",
       "    </tr>\n",
       "  </thead>\n",
       "  <tbody>\n",
       "    <tr>\n",
       "      <th>Alabama</th>\n",
       "      <td>AL</td>\n",
       "      <td>THE UNIV. OF ALA. AT BIRMINGHAM (UAB)</td>\n",
       "      <td>946</td>\n",
       "      <td>47095.38</td>\n",
       "    </tr>\n",
       "    <tr>\n",
       "      <th>Alaska</th>\n",
       "      <td>AK</td>\n",
       "      <td>UNIVERSITY OF ALASKA</td>\n",
       "      <td>114</td>\n",
       "      <td>55792.98</td>\n",
       "    </tr>\n",
       "    <tr>\n",
       "      <th>Arizona</th>\n",
       "      <td>AZ</td>\n",
       "      <td>INFOSYS LIMITED</td>\n",
       "      <td>5641</td>\n",
       "      <td>64562.35</td>\n",
       "    </tr>\n",
       "    <tr>\n",
       "      <th>Arkansas</th>\n",
       "      <td>AR</td>\n",
       "      <td>INFOSYS LIMITED</td>\n",
       "      <td>2057</td>\n",
       "      <td>53797.90</td>\n",
       "    </tr>\n",
       "    <tr>\n",
       "      <th>California</th>\n",
       "      <td>CA</td>\n",
       "      <td>INFOSYS LIMITED</td>\n",
       "      <td>23597</td>\n",
       "      <td>83573.26</td>\n",
       "    </tr>\n",
       "    <tr>\n",
       "      <th>Colorado</th>\n",
       "      <td>CO</td>\n",
       "      <td>INFOSYS LIMITED</td>\n",
       "      <td>1871</td>\n",
       "      <td>71671.67</td>\n",
       "    </tr>\n",
       "    <tr>\n",
       "      <th>Connecticut</th>\n",
       "      <td>CT</td>\n",
       "      <td>INFOSYS LIMITED</td>\n",
       "      <td>4556</td>\n",
       "      <td>71549.91</td>\n",
       "    </tr>\n",
       "    <tr>\n",
       "      <th>Delaware</th>\n",
       "      <td>DE</td>\n",
       "      <td>TATA CONSULTANCY SERVICES LIMITED</td>\n",
       "      <td>1172</td>\n",
       "      <td>65719.35</td>\n",
       "    </tr>\n",
       "    <tr>\n",
       "      <th>District Of Columbia</th>\n",
       "      <td>DC</td>\n",
       "      <td>INFOSYS LIMITED</td>\n",
       "      <td>437</td>\n",
       "      <td>81681.22</td>\n",
       "    </tr>\n",
       "    <tr>\n",
       "      <th>Florida</th>\n",
       "      <td>FL</td>\n",
       "      <td>INFOSYS LIMITED</td>\n",
       "      <td>4043</td>\n",
       "      <td>63216.82</td>\n",
       "    </tr>\n",
       "    <tr>\n",
       "      <th>Georgia</th>\n",
       "      <td>GA</td>\n",
       "      <td>INFOSYS LIMITED</td>\n",
       "      <td>4686</td>\n",
       "      <td>64494.22</td>\n",
       "    </tr>\n",
       "    <tr>\n",
       "      <th>Hawaii</th>\n",
       "      <td>HI</td>\n",
       "      <td>UNIVERSITY OF HAWAII</td>\n",
       "      <td>397</td>\n",
       "      <td>55253.00</td>\n",
       "    </tr>\n",
       "    <tr>\n",
       "      <th>Idaho</th>\n",
       "      <td>ID</td>\n",
       "      <td>MICRON TECHNOLOGY, INC.</td>\n",
       "      <td>830</td>\n",
       "      <td>73509.92</td>\n",
       "    </tr>\n",
       "    <tr>\n",
       "      <th>Illinois</th>\n",
       "      <td>IL</td>\n",
       "      <td>INFOSYS LIMITED</td>\n",
       "      <td>8975</td>\n",
       "      <td>63051.62</td>\n",
       "    </tr>\n",
       "    <tr>\n",
       "      <th>Indiana</th>\n",
       "      <td>IN</td>\n",
       "      <td>CUMMINS INC.</td>\n",
       "      <td>2682</td>\n",
       "      <td>62440.99</td>\n",
       "    </tr>\n",
       "    <tr>\n",
       "      <th>Iowa</th>\n",
       "      <td>IA</td>\n",
       "      <td>THE UNIVERSITY OF IOWA</td>\n",
       "      <td>1098</td>\n",
       "      <td>70629.17</td>\n",
       "    </tr>\n",
       "    <tr>\n",
       "      <th>Kansas</th>\n",
       "      <td>KS</td>\n",
       "      <td>INFOSYS LIMITED</td>\n",
       "      <td>2994</td>\n",
       "      <td>55318.44</td>\n",
       "    </tr>\n",
       "    <tr>\n",
       "      <th>Kentucky</th>\n",
       "      <td>KY</td>\n",
       "      <td>TATA CONSULTANCY SERVICES LIMITED</td>\n",
       "      <td>803</td>\n",
       "      <td>52167.82</td>\n",
       "    </tr>\n",
       "    <tr>\n",
       "      <th>Louisiana</th>\n",
       "      <td>LA</td>\n",
       "      <td>IBM INDIA PRIVATE LIMITED</td>\n",
       "      <td>835</td>\n",
       "      <td>51185.33</td>\n",
       "    </tr>\n",
       "    <tr>\n",
       "      <th>Maine</th>\n",
       "      <td>ME</td>\n",
       "      <td>RITE PROS INC</td>\n",
       "      <td>330</td>\n",
       "      <td>59893.82</td>\n",
       "    </tr>\n",
       "    <tr>\n",
       "      <th>Maryland</th>\n",
       "      <td>MD</td>\n",
       "      <td>JOHNS HOPKINS UNIVERSITY</td>\n",
       "      <td>1449</td>\n",
       "      <td>51295.57</td>\n",
       "    </tr>\n",
       "    <tr>\n",
       "      <th>Massachusetts</th>\n",
       "      <td>MA</td>\n",
       "      <td>WIPRO LIMITED</td>\n",
       "      <td>3286</td>\n",
       "      <td>75511.89</td>\n",
       "    </tr>\n",
       "    <tr>\n",
       "      <th>Michigan</th>\n",
       "      <td>MI</td>\n",
       "      <td>UNIVERSITY OF MICHIGAN</td>\n",
       "      <td>2177</td>\n",
       "      <td>50723.84</td>\n",
       "    </tr>\n",
       "    <tr>\n",
       "      <th>Minnesota</th>\n",
       "      <td>MN</td>\n",
       "      <td>TATA CONSULTANCY SERVICES LIMITED</td>\n",
       "      <td>3801</td>\n",
       "      <td>60525.77</td>\n",
       "    </tr>\n",
       "    <tr>\n",
       "      <th>Mississippi</th>\n",
       "      <td>MS</td>\n",
       "      <td>UNIVERSITY OF MISSISSIPPI MEDICAL CENTER</td>\n",
       "      <td>266</td>\n",
       "      <td>74265.75</td>\n",
       "    </tr>\n",
       "    <tr>\n",
       "      <th>Missouri</th>\n",
       "      <td>MO</td>\n",
       "      <td>INFOSYS LIMITED</td>\n",
       "      <td>1532</td>\n",
       "      <td>64952.62</td>\n",
       "    </tr>\n",
       "    <tr>\n",
       "      <th>Montana</th>\n",
       "      <td>MT</td>\n",
       "      <td>MONTANA STATE UNIVERSITY</td>\n",
       "      <td>105</td>\n",
       "      <td>44699.25</td>\n",
       "    </tr>\n",
       "    <tr>\n",
       "      <th>Nebraska</th>\n",
       "      <td>NE</td>\n",
       "      <td>BOARD OF REGENTS OF THE UNIVERSITY OF NEBRASKA</td>\n",
       "      <td>434</td>\n",
       "      <td>43808.93</td>\n",
       "    </tr>\n",
       "    <tr>\n",
       "      <th>Nevada</th>\n",
       "      <td>NV</td>\n",
       "      <td>UNIVERSITY OF NEVADA, RENO</td>\n",
       "      <td>222</td>\n",
       "      <td>54004.18</td>\n",
       "    </tr>\n",
       "    <tr>\n",
       "      <th>New Hampshire</th>\n",
       "      <td>NH</td>\n",
       "      <td>INFOSYS LIMITED</td>\n",
       "      <td>695</td>\n",
       "      <td>66054.34</td>\n",
       "    </tr>\n",
       "    <tr>\n",
       "      <th>New Jersey</th>\n",
       "      <td>NJ</td>\n",
       "      <td>INFOSYS LIMITED</td>\n",
       "      <td>6444</td>\n",
       "      <td>71178.65</td>\n",
       "    </tr>\n",
       "    <tr>\n",
       "      <th>New Mexico</th>\n",
       "      <td>NM</td>\n",
       "      <td>LOS ALAMOS NATIONAL SECURITY, LLC</td>\n",
       "      <td>353</td>\n",
       "      <td>66577.76</td>\n",
       "    </tr>\n",
       "    <tr>\n",
       "      <th>New York</th>\n",
       "      <td>NY</td>\n",
       "      <td>INFOSYS LIMITED</td>\n",
       "      <td>4934</td>\n",
       "      <td>72828.01</td>\n",
       "    </tr>\n",
       "    <tr>\n",
       "      <th>North Carolina</th>\n",
       "      <td>NC</td>\n",
       "      <td>INFOSYS LIMITED</td>\n",
       "      <td>8770</td>\n",
       "      <td>66828.39</td>\n",
       "    </tr>\n",
       "    <tr>\n",
       "      <th>North Dakota</th>\n",
       "      <td>ND</td>\n",
       "      <td>NORTH DAKOTA STATE UNIVERSITY</td>\n",
       "      <td>166</td>\n",
       "      <td>45769.05</td>\n",
       "    </tr>\n",
       "    <tr>\n",
       "      <th>Ohio</th>\n",
       "      <td>OH</td>\n",
       "      <td>TATA CONSULTANCY SERVICES LIMITED</td>\n",
       "      <td>4060</td>\n",
       "      <td>58881.60</td>\n",
       "    </tr>\n",
       "    <tr>\n",
       "      <th>Oklahoma</th>\n",
       "      <td>OK</td>\n",
       "      <td>UNIVERSITY OF OKLAHOMA</td>\n",
       "      <td>408</td>\n",
       "      <td>40850.59</td>\n",
       "    </tr>\n",
       "    <tr>\n",
       "      <th>Oregon</th>\n",
       "      <td>OR</td>\n",
       "      <td>INTEL CORPORATION</td>\n",
       "      <td>4018</td>\n",
       "      <td>86409.13</td>\n",
       "    </tr>\n",
       "    <tr>\n",
       "      <th>Pennsylvania</th>\n",
       "      <td>PA</td>\n",
       "      <td>DELOITTE CONSULTING LLP</td>\n",
       "      <td>7764</td>\n",
       "      <td>68213.34</td>\n",
       "    </tr>\n",
       "    <tr>\n",
       "      <th>Rhode Island</th>\n",
       "      <td>RI</td>\n",
       "      <td>INFOSYS LIMITED</td>\n",
       "      <td>2465</td>\n",
       "      <td>99216.50</td>\n",
       "    </tr>\n",
       "    <tr>\n",
       "      <th>South Carolina</th>\n",
       "      <td>SC</td>\n",
       "      <td>WIPRO LIMITED</td>\n",
       "      <td>440</td>\n",
       "      <td>61369.77</td>\n",
       "    </tr>\n",
       "    <tr>\n",
       "      <th>South Dakota</th>\n",
       "      <td>SD</td>\n",
       "      <td>TATA CONSULTANCY SERVICES LIMITED</td>\n",
       "      <td>319</td>\n",
       "      <td>50796.68</td>\n",
       "    </tr>\n",
       "    <tr>\n",
       "      <th>Tennessee</th>\n",
       "      <td>TN</td>\n",
       "      <td>SYNECHRON, INC.</td>\n",
       "      <td>1135</td>\n",
       "      <td>64457.48</td>\n",
       "    </tr>\n",
       "    <tr>\n",
       "      <th>Texas</th>\n",
       "      <td>TX</td>\n",
       "      <td>INFOSYS LIMITED</td>\n",
       "      <td>13741</td>\n",
       "      <td>70105.50</td>\n",
       "    </tr>\n",
       "    <tr>\n",
       "      <th>Utah</th>\n",
       "      <td>UT</td>\n",
       "      <td>INFOSYS LIMITED</td>\n",
       "      <td>1780</td>\n",
       "      <td>56309.81</td>\n",
       "    </tr>\n",
       "    <tr>\n",
       "      <th>Vermont</th>\n",
       "      <td>VT</td>\n",
       "      <td>THE UNIVERSITY OF VERMONT</td>\n",
       "      <td>139</td>\n",
       "      <td>48328.22</td>\n",
       "    </tr>\n",
       "    <tr>\n",
       "      <th>Virginia</th>\n",
       "      <td>VA</td>\n",
       "      <td>CAPITAL ONE SERVICES, LLC</td>\n",
       "      <td>1805</td>\n",
       "      <td>78647.23</td>\n",
       "    </tr>\n",
       "    <tr>\n",
       "      <th>Washington</th>\n",
       "      <td>WA</td>\n",
       "      <td>MICROSOFT CORPORATION</td>\n",
       "      <td>19370</td>\n",
       "      <td>89907.96</td>\n",
       "    </tr>\n",
       "    <tr>\n",
       "      <th>West Virginia</th>\n",
       "      <td>WV</td>\n",
       "      <td>WEST VIRGINIA UNIVERSITY</td>\n",
       "      <td>321</td>\n",
       "      <td>47589.60</td>\n",
       "    </tr>\n",
       "    <tr>\n",
       "      <th>Wisconsin</th>\n",
       "      <td>WI</td>\n",
       "      <td>INFOSYS LIMITED</td>\n",
       "      <td>3577</td>\n",
       "      <td>63036.58</td>\n",
       "    </tr>\n",
       "    <tr>\n",
       "      <th>Wyoming</th>\n",
       "      <td>WY</td>\n",
       "      <td>UNIVERSITY OF WYOMING</td>\n",
       "      <td>162</td>\n",
       "      <td>45001.64</td>\n",
       "    </tr>\n",
       "  </tbody>\n",
       "</table>\n",
       "</div>"
      ],
      "text/plain": [
       "                     code                                    top_employer  \\\n",
       "name                                                                        \n",
       "Alabama                AL           THE UNIV. OF ALA. AT BIRMINGHAM (UAB)   \n",
       "Alaska                 AK                            UNIVERSITY OF ALASKA   \n",
       "Arizona                AZ                                 INFOSYS LIMITED   \n",
       "Arkansas               AR                                 INFOSYS LIMITED   \n",
       "California             CA                                 INFOSYS LIMITED   \n",
       "Colorado               CO                                 INFOSYS LIMITED   \n",
       "Connecticut            CT                                 INFOSYS LIMITED   \n",
       "Delaware               DE               TATA CONSULTANCY SERVICES LIMITED   \n",
       "District Of Columbia   DC                                 INFOSYS LIMITED   \n",
       "Florida                FL                                 INFOSYS LIMITED   \n",
       "Georgia                GA                                 INFOSYS LIMITED   \n",
       "Hawaii                 HI                            UNIVERSITY OF HAWAII   \n",
       "Idaho                  ID                         MICRON TECHNOLOGY, INC.   \n",
       "Illinois               IL                                 INFOSYS LIMITED   \n",
       "Indiana                IN                                    CUMMINS INC.   \n",
       "Iowa                   IA                          THE UNIVERSITY OF IOWA   \n",
       "Kansas                 KS                                 INFOSYS LIMITED   \n",
       "Kentucky               KY               TATA CONSULTANCY SERVICES LIMITED   \n",
       "Louisiana              LA                       IBM INDIA PRIVATE LIMITED   \n",
       "Maine                  ME                                   RITE PROS INC   \n",
       "Maryland               MD                        JOHNS HOPKINS UNIVERSITY   \n",
       "Massachusetts          MA                                   WIPRO LIMITED   \n",
       "Michigan               MI                          UNIVERSITY OF MICHIGAN   \n",
       "Minnesota              MN               TATA CONSULTANCY SERVICES LIMITED   \n",
       "Mississippi            MS        UNIVERSITY OF MISSISSIPPI MEDICAL CENTER   \n",
       "Missouri               MO                                 INFOSYS LIMITED   \n",
       "Montana                MT                        MONTANA STATE UNIVERSITY   \n",
       "Nebraska               NE  BOARD OF REGENTS OF THE UNIVERSITY OF NEBRASKA   \n",
       "Nevada                 NV                      UNIVERSITY OF NEVADA, RENO   \n",
       "New Hampshire          NH                                 INFOSYS LIMITED   \n",
       "New Jersey             NJ                                 INFOSYS LIMITED   \n",
       "New Mexico             NM               LOS ALAMOS NATIONAL SECURITY, LLC   \n",
       "New York               NY                                 INFOSYS LIMITED   \n",
       "North Carolina         NC                                 INFOSYS LIMITED   \n",
       "North Dakota           ND                   NORTH DAKOTA STATE UNIVERSITY   \n",
       "Ohio                   OH               TATA CONSULTANCY SERVICES LIMITED   \n",
       "Oklahoma               OK                          UNIVERSITY OF OKLAHOMA   \n",
       "Oregon                 OR                               INTEL CORPORATION   \n",
       "Pennsylvania           PA                         DELOITTE CONSULTING LLP   \n",
       "Rhode Island           RI                                 INFOSYS LIMITED   \n",
       "South Carolina         SC                                   WIPRO LIMITED   \n",
       "South Dakota           SD               TATA CONSULTANCY SERVICES LIMITED   \n",
       "Tennessee              TN                                 SYNECHRON, INC.   \n",
       "Texas                  TX                                 INFOSYS LIMITED   \n",
       "Utah                   UT                                 INFOSYS LIMITED   \n",
       "Vermont                VT                       THE UNIVERSITY OF VERMONT   \n",
       "Virginia               VA                       CAPITAL ONE SERVICES, LLC   \n",
       "Washington             WA                           MICROSOFT CORPORATION   \n",
       "West Virginia          WV                        WEST VIRGINIA UNIVERSITY   \n",
       "Wisconsin              WI                                 INFOSYS LIMITED   \n",
       "Wyoming                WY                           UNIVERSITY OF WYOMING   \n",
       "\n",
       "                      count  average_salary  \n",
       "name                                         \n",
       "Alabama                 946        47095.38  \n",
       "Alaska                  114        55792.98  \n",
       "Arizona                5641        64562.35  \n",
       "Arkansas               2057        53797.90  \n",
       "California            23597        83573.26  \n",
       "Colorado               1871        71671.67  \n",
       "Connecticut            4556        71549.91  \n",
       "Delaware               1172        65719.35  \n",
       "District Of Columbia    437        81681.22  \n",
       "Florida                4043        63216.82  \n",
       "Georgia                4686        64494.22  \n",
       "Hawaii                  397        55253.00  \n",
       "Idaho                   830        73509.92  \n",
       "Illinois               8975        63051.62  \n",
       "Indiana                2682        62440.99  \n",
       "Iowa                   1098        70629.17  \n",
       "Kansas                 2994        55318.44  \n",
       "Kentucky                803        52167.82  \n",
       "Louisiana               835        51185.33  \n",
       "Maine                   330        59893.82  \n",
       "Maryland               1449        51295.57  \n",
       "Massachusetts          3286        75511.89  \n",
       "Michigan               2177        50723.84  \n",
       "Minnesota              3801        60525.77  \n",
       "Mississippi             266        74265.75  \n",
       "Missouri               1532        64952.62  \n",
       "Montana                 105        44699.25  \n",
       "Nebraska                434        43808.93  \n",
       "Nevada                  222        54004.18  \n",
       "New Hampshire           695        66054.34  \n",
       "New Jersey             6444        71178.65  \n",
       "New Mexico              353        66577.76  \n",
       "New York               4934        72828.01  \n",
       "North Carolina         8770        66828.39  \n",
       "North Dakota            166        45769.05  \n",
       "Ohio                   4060        58881.60  \n",
       "Oklahoma                408        40850.59  \n",
       "Oregon                 4018        86409.13  \n",
       "Pennsylvania           7764        68213.34  \n",
       "Rhode Island           2465        99216.50  \n",
       "South Carolina          440        61369.77  \n",
       "South Dakota            319        50796.68  \n",
       "Tennessee              1135        64457.48  \n",
       "Texas                 13741        70105.50  \n",
       "Utah                   1780        56309.81  \n",
       "Vermont                 139        48328.22  \n",
       "Virginia               1805        78647.23  \n",
       "Washington            19370        89907.96  \n",
       "West Virginia           321        47589.60  \n",
       "Wisconsin              3577        63036.58  \n",
       "Wyoming                 162        45001.64  "
      ]
     },
     "execution_count": 36,
     "metadata": {},
     "output_type": "execute_result"
    }
   ],
   "source": [
    "data = h1b_frame[h1b_frame['CASE_STATUS'] == 'CERTIFIED']\n",
    "df = pd.read_csv('./data/top_employer_by_state.csv')\n",
    "df = df.set_index('name')\n",
    "\n",
    "for state, row in df.iterrows():\n",
    "    employer = row['top_employer']\n",
    "    wages = data[data['WORKSITE'].str.contains(state.upper())][data['EMPLOYER_NAME'] == employer]['PREVAILING_WAGE']\n",
    "    df.at[state, 'average_salary'] = round(wages.mean(), 2)\n",
    "    \n",
    "df.sort_index()"
   ]
  },
  {
   "cell_type": "markdown",
   "metadata": {},
   "source": [
    "Now that `df` is ready, we can begin plotting"
   ]
  },
  {
   "cell_type": "code",
   "execution_count": null,
   "metadata": {
    "scrolled": true
   },
   "outputs": [],
   "source": [
    "map_data = '/Users/hirad.pourtahmasbi/Dev/h1b-analysis/data/map/us_states.json'\n",
    "m = folium.Map(location=[37, -102], zoom_start=4)\n",
    "m.choropleth(\n",
    "    geo_data=map_data,\n",
    "    name='2011-2016 Average Salary of Top Employer per State',\n",
    "    data=df,\n",
    "    columns=['code', 'average_salary'],\n",
    "    key_on='feature.id',\n",
    "    fill_color='YlGn',\n",
    "    fill_opacity=0.7,\n",
    "    line_opacity=0.2,\n",
    "    legend_name='Average Salary'\n",
    ")\n",
    "folium.LayerControl().add_to(m)\n",
    "m"
   ]
  },
  {
   "cell_type": "markdown",
   "metadata": {},
   "source": [
    "---\n",
    "### Chronological Analysis: \n",
    "\n",
    "* What is the year-by-year breakdown of applications? "
   ]
  },
  {
   "cell_type": "code",
   "execution_count": 10,
   "metadata": {
    "scrolled": true
   },
   "outputs": [
    {
     "data": {
      "application/vnd.plotly.v1+json": {
       "data": [
        {
         "name": "Certified",
         "text": [
          307936,
          352668,
          382951,
          455144,
          547278,
          569646
         ],
         "textposition": "auto",
         "type": "bar",
         "x": [
          2011,
          2012,
          2013,
          2014,
          2015,
          2016
         ],
         "y": [
          307936,
          352668,
          382951,
          455144,
          547278,
          569646
         ]
        },
        {
         "name": "Non-Certified",
         "text": [
          50831,
          62939,
          59163,
          64283,
          71449,
          78157
         ],
         "textposition": "auto",
         "type": "bar",
         "x": [
          2011,
          2012,
          2013,
          2014,
          2015,
          2016
         ],
         "y": [
          50831,
          62939,
          59163,
          64283,
          71449,
          78157
         ]
        }
       ],
       "layout": {
        "barmode": "stack",
        "title": "Certified vs Non-Certified H1B applications per Year"
       }
      },
      "text/html": [
       "<div id=\"eb89e13c-5cf0-4818-a916-416843845d05\" style=\"height: 525px; width: 100%;\" class=\"plotly-graph-div\"></div><script type=\"text/javascript\">require([\"plotly\"], function(Plotly) { window.PLOTLYENV=window.PLOTLYENV || {};window.PLOTLYENV.BASE_URL=\"https://plot.ly\";Plotly.newPlot(\"eb89e13c-5cf0-4818-a916-416843845d05\", [{\"type\": \"bar\", \"x\": [2011.0, 2012.0, 2013.0, 2014.0, 2015.0, 2016.0], \"y\": [307936, 352668, 382951, 455144, 547278, 569646], \"name\": \"Certified\", \"text\": [307936, 352668, 382951, 455144, 547278, 569646], \"textposition\": \"auto\"}, {\"type\": \"bar\", \"x\": [2011.0, 2012.0, 2013.0, 2014.0, 2015.0, 2016.0], \"y\": [50831, 62939, 59163, 64283, 71449, 78157], \"name\": \"Non-Certified\", \"text\": [50831, 62939, 59163, 64283, 71449, 78157], \"textposition\": \"auto\"}], {\"title\": \"Certified vs Non-Certified H1B applications per Year\", \"barmode\": \"stack\"}, {\"showLink\": true, \"linkText\": \"Export to plot.ly\"})});</script>"
      ],
      "text/vnd.plotly.v1+html": [
       "<div id=\"eb89e13c-5cf0-4818-a916-416843845d05\" style=\"height: 525px; width: 100%;\" class=\"plotly-graph-div\"></div><script type=\"text/javascript\">require([\"plotly\"], function(Plotly) { window.PLOTLYENV=window.PLOTLYENV || {};window.PLOTLYENV.BASE_URL=\"https://plot.ly\";Plotly.newPlot(\"eb89e13c-5cf0-4818-a916-416843845d05\", [{\"type\": \"bar\", \"x\": [2011.0, 2012.0, 2013.0, 2014.0, 2015.0, 2016.0], \"y\": [307936, 352668, 382951, 455144, 547278, 569646], \"name\": \"Certified\", \"text\": [307936, 352668, 382951, 455144, 547278, 569646], \"textposition\": \"auto\"}, {\"type\": \"bar\", \"x\": [2011.0, 2012.0, 2013.0, 2014.0, 2015.0, 2016.0], \"y\": [50831, 62939, 59163, 64283, 71449, 78157], \"name\": \"Non-Certified\", \"text\": [50831, 62939, 59163, 64283, 71449, 78157], \"textposition\": \"auto\"}], {\"title\": \"Certified vs Non-Certified H1B applications per Year\", \"barmode\": \"stack\"}, {\"showLink\": true, \"linkText\": \"Export to plot.ly\"})});</script>"
      ]
     },
     "metadata": {},
     "output_type": "display_data"
    }
   ],
   "source": [
    "# Histogram for number of applications per year\n",
    "years_frame_non_cert = h1b_frame.loc[h1b_frame['CASE_STATUS'] != 'CERTIFIED'].groupby('YEAR').count()\n",
    "X = years_frame_non_cert.index.values\n",
    "Y = years_frame_non_cert[['Unnamed: 0']].values.flatten()\n",
    "trace_non_cert = go.Bar(x=X, \n",
    "                        y=Y, \n",
    "                        name=\"Non-Certified\",\n",
    "                        text=Y, \n",
    "                        textposition = 'auto')\n",
    "\n",
    "# Histogram for number of applications per year that are 'CERTIFIED', \n",
    "# which means 'meeting the minumum requirement'.\n",
    "years_frame_cert = h1b_frame.loc[h1b_frame['CASE_STATUS'] == 'CERTIFIED'].groupby('YEAR').count()\n",
    "X = years_frame_cert.index.values\n",
    "Y = years_frame_cert[['Unnamed: 0']].values.flatten()\n",
    "trace_cert = go.Bar(x=X, \n",
    "                    y=Y, \n",
    "                    name=\"Certified\", \n",
    "                    text=Y, \n",
    "                    textposition = 'auto')\n",
    "\n",
    "data = [trace_cert, trace_non_cert]\n",
    "layout = go.Layout(\n",
    "    title=\"Certified vs Non-Certified H1B applications per Year\",\n",
    "    barmode='stack'  \n",
    ")\n",
    "fig = go.Figure(\n",
    "    data=data, \n",
    "    layout=layout\n",
    ")\n",
    "iplot(fig, \n",
    "      filename='stacked-bar', \n",
    ")"
   ]
  },
  {
   "cell_type": "code",
   "execution_count": 46,
   "metadata": {
    "scrolled": true
   },
   "outputs": [],
   "source": [
    "# Creating a dataframe with columns\n",
    "h1b_frame_with_states = pd.read_csv(\"./data/h1b.csv\")\n",
    "h1b_frame_with_states['state'] = ''\n",
    "h1b_frame_with_states['state'] = h1b_frame_with_states['WORKSITE']\n",
    "tr = []\n",
    "for worksite in h1b_frame_with_states['state']:\n",
    "    tr.append(worksite.split(',')[1].strip().title())\n",
    "h1b_frame_with_states['state'] = tr"
   ]
  },
  {
   "cell_type": "code",
   "execution_count": 39,
   "metadata": {
    "scrolled": true
   },
   "outputs": [],
   "source": [
    "# saving h1b data frame with states into the file\n",
    "# df.to_csv(\"./data/h1b_with_states.csv\")\n",
    "# h1b_frame_with_states = pd.read_csv(\"./data/h1b_with_states.csv\")"
   ]
  },
  {
   "cell_type": "code",
   "execution_count": 173,
   "metadata": {
    "scrolled": true
   },
   "outputs": [
    {
     "data": {
      "application/vnd.plotly.v1+json": {
       "data": [
        {
         "name": "Ratios",
         "type": "bar",
         "x": [
          "Alabama",
          "Alaska",
          "Arizona",
          "Arkansas",
          "California",
          "Colorado",
          "Connecticut",
          "Delaware",
          "District Of Columbia",
          "Florida",
          "Georgia",
          "Hawaii",
          "Idaho",
          "Illinois",
          "Indiana",
          "Iowa",
          "Kansas",
          "Kentucky",
          "Louisiana",
          "Maine",
          "Maryland",
          "Massachusetts",
          "Michigan",
          "Minnesota",
          "Mississippi",
          "Missouri",
          "Montana",
          "Nebraska",
          "Nevada",
          "New Hampshire",
          "New Jersey",
          "New Mexico",
          "New York",
          "North Carolina",
          "North Dakota",
          "Ohio",
          "Oklahoma",
          "Oregon",
          "Pennsylvania",
          "Puerto Rico",
          "Rhode Island",
          "South Carolina",
          "South Dakota",
          "Tennessee",
          "Texas",
          "Utah",
          "Vermont",
          "Virginia",
          "Washington",
          "West Virginia",
          "Wisconsin",
          "Wyoming"
         ],
         "y": [
          0.035634240125017994,
          0.02075768236432698,
          0.12540630445136114,
          0.10230074612281176,
          0.26514638197481544,
          0.09939455414584666,
          0.2544421119030816,
          0.32361235839989916,
          0.5235110178075958,
          0.09064429493278307,
          0.21559844936714692,
          0.030240305427084814,
          0.04545076464227575,
          0.2442675056491255,
          0.08135017163288157,
          0.08016734015101319,
          0.08451172208886011,
          0.052896410932315584,
          0.040370244267745714,
          0.04724070000352991,
          0.15633811782934348,
          0.3177437201060105,
          0.18569140739099343,
          0.16183111737203512,
          0.023421350769525208,
          0.11276875102576728,
          0.015251505966312398,
          0.09270542536479165,
          0.03999921089992102,
          0.12563727014260617,
          0.4826893580826318,
          0.044545570310641686,
          0.25977335657128137,
          0.16312551321659624,
          0.060162121084184755,
          0.12692893538032574,
          0.04493367122366646,
          0.10101466605919435,
          0.1653678396042248,
          0.004836855785773605,
          0.21241431013625184,
          0.050956245959832856,
          0.03431724851927428,
          0.07467832091501164,
          0.21424421471710675,
          0.0833110198324144,
          0.050432761121624606,
          0.19817380520335223,
          0.2797338090010977,
          0.025612991520952953,
          0.10855367670420447,
          0.017762565734302762
         ]
        }
       ],
       "layout": {
        "barmode": "stack"
       }
      },
      "text/html": [
       "<div id=\"3646e0f5-acea-4161-a2a1-ccc21a3a7004\" style=\"height: 525px; width: 100%;\" class=\"plotly-graph-div\"></div><script type=\"text/javascript\">require([\"plotly\"], function(Plotly) { window.PLOTLYENV=window.PLOTLYENV || {};window.PLOTLYENV.BASE_URL=\"https://plot.ly\";Plotly.newPlot(\"3646e0f5-acea-4161-a2a1-ccc21a3a7004\", [{\"type\": \"bar\", \"x\": [\"Alabama\", \"Alaska\", \"Arizona\", \"Arkansas\", \"California\", \"Colorado\", \"Connecticut\", \"Delaware\", \"District Of Columbia\", \"Florida\", \"Georgia\", \"Hawaii\", \"Idaho\", \"Illinois\", \"Indiana\", \"Iowa\", \"Kansas\", \"Kentucky\", \"Louisiana\", \"Maine\", \"Maryland\", \"Massachusetts\", \"Michigan\", \"Minnesota\", \"Mississippi\", \"Missouri\", \"Montana\", \"Nebraska\", \"Nevada\", \"New Hampshire\", \"New Jersey\", \"New Mexico\", \"New York\", \"North Carolina\", \"North Dakota\", \"Ohio\", \"Oklahoma\", \"Oregon\", \"Pennsylvania\", \"Puerto Rico\", \"Rhode Island\", \"South Carolina\", \"South Dakota\", \"Tennessee\", \"Texas\", \"Utah\", \"Vermont\", \"Virginia\", \"Washington\", \"West Virginia\", \"Wisconsin\", \"Wyoming\"], \"y\": [0.035634240125017994, 0.02075768236432698, 0.12540630445136114, 0.10230074612281176, 0.26514638197481544, 0.09939455414584666, 0.2544421119030816, 0.32361235839989916, 0.5235110178075958, 0.09064429493278307, 0.21559844936714692, 0.030240305427084814, 0.04545076464227575, 0.2442675056491255, 0.08135017163288157, 0.08016734015101319, 0.08451172208886011, 0.052896410932315584, 0.040370244267745714, 0.04724070000352991, 0.15633811782934348, 0.3177437201060105, 0.18569140739099343, 0.16183111737203512, 0.023421350769525208, 0.11276875102576728, 0.015251505966312398, 0.09270542536479165, 0.03999921089992102, 0.12563727014260617, 0.4826893580826318, 0.044545570310641686, 0.25977335657128137, 0.16312551321659624, 0.060162121084184755, 0.12692893538032574, 0.04493367122366646, 0.10101466605919435, 0.1653678396042248, 0.004836855785773605, 0.21241431013625184, 0.050956245959832856, 0.03431724851927428, 0.07467832091501164, 0.21424421471710675, 0.0833110198324144, 0.050432761121624606, 0.19817380520335223, 0.2797338090010977, 0.025612991520952953, 0.10855367670420447, 0.017762565734302762], \"name\": \"Ratios\"}], {\"barmode\": \"stack\"}, {\"showLink\": true, \"linkText\": \"Export to plot.ly\"})});</script>"
      ],
      "text/vnd.plotly.v1+html": [
       "<div id=\"3646e0f5-acea-4161-a2a1-ccc21a3a7004\" style=\"height: 525px; width: 100%;\" class=\"plotly-graph-div\"></div><script type=\"text/javascript\">require([\"plotly\"], function(Plotly) { window.PLOTLYENV=window.PLOTLYENV || {};window.PLOTLYENV.BASE_URL=\"https://plot.ly\";Plotly.newPlot(\"3646e0f5-acea-4161-a2a1-ccc21a3a7004\", [{\"type\": \"bar\", \"x\": [\"Alabama\", \"Alaska\", \"Arizona\", \"Arkansas\", \"California\", \"Colorado\", \"Connecticut\", \"Delaware\", \"District Of Columbia\", \"Florida\", \"Georgia\", \"Hawaii\", \"Idaho\", \"Illinois\", \"Indiana\", \"Iowa\", \"Kansas\", \"Kentucky\", \"Louisiana\", \"Maine\", \"Maryland\", \"Massachusetts\", \"Michigan\", \"Minnesota\", \"Mississippi\", \"Missouri\", \"Montana\", \"Nebraska\", \"Nevada\", \"New Hampshire\", \"New Jersey\", \"New Mexico\", \"New York\", \"North Carolina\", \"North Dakota\", \"Ohio\", \"Oklahoma\", \"Oregon\", \"Pennsylvania\", \"Puerto Rico\", \"Rhode Island\", \"South Carolina\", \"South Dakota\", \"Tennessee\", \"Texas\", \"Utah\", \"Vermont\", \"Virginia\", \"Washington\", \"West Virginia\", \"Wisconsin\", \"Wyoming\"], \"y\": [0.035634240125017994, 0.02075768236432698, 0.12540630445136114, 0.10230074612281176, 0.26514638197481544, 0.09939455414584666, 0.2544421119030816, 0.32361235839989916, 0.5235110178075958, 0.09064429493278307, 0.21559844936714692, 0.030240305427084814, 0.04545076464227575, 0.2442675056491255, 0.08135017163288157, 0.08016734015101319, 0.08451172208886011, 0.052896410932315584, 0.040370244267745714, 0.04724070000352991, 0.15633811782934348, 0.3177437201060105, 0.18569140739099343, 0.16183111737203512, 0.023421350769525208, 0.11276875102576728, 0.015251505966312398, 0.09270542536479165, 0.03999921089992102, 0.12563727014260617, 0.4826893580826318, 0.044545570310641686, 0.25977335657128137, 0.16312551321659624, 0.060162121084184755, 0.12692893538032574, 0.04493367122366646, 0.10101466605919435, 0.1653678396042248, 0.004836855785773605, 0.21241431013625184, 0.050956245959832856, 0.03431724851927428, 0.07467832091501164, 0.21424421471710675, 0.0833110198324144, 0.050432761121624606, 0.19817380520335223, 0.2797338090010977, 0.025612991520952953, 0.10855367670420447, 0.017762565734302762], \"name\": \"Ratios\"}], {\"barmode\": \"stack\"}, {\"showLink\": true, \"linkText\": \"Export to plot.ly\"})});</script>"
      ]
     },
     "metadata": {},
     "output_type": "display_data"
    },
    {
     "data": {
      "application/vnd.plotly.v1+json": {
       "data": [
        {
         "name": "Ratios",
         "type": "bar",
         "x": [
          "Alabama",
          "Alaska",
          "Arizona",
          "Arkansas",
          "California",
          "Colorado",
          "Connecticut",
          "Delaware",
          "District Of Columbia",
          "Florida",
          "Georgia",
          "Hawaii",
          "Idaho",
          "Illinois",
          "Indiana",
          "Iowa",
          "Kansas",
          "Kentucky",
          "Louisiana",
          "Maine",
          "Maryland",
          "Massachusetts",
          "Michigan",
          "Minnesota",
          "Mississippi",
          "Missouri",
          "Montana",
          "Nebraska",
          "Nevada",
          "New Hampshire",
          "New Jersey",
          "New Mexico",
          "New York",
          "North Carolina",
          "North Dakota",
          "Ohio",
          "Oklahoma",
          "Oregon",
          "Pennsylvania",
          "Puerto Rico",
          "Rhode Island",
          "South Carolina",
          "South Dakota",
          "Tennessee",
          "Texas",
          "Utah",
          "Vermont",
          "Virginia",
          "Washington",
          "West Virginia",
          "Wisconsin",
          "Wyoming"
         ],
         "y": [
          1733,
          154,
          8692,
          3057,
          104070,
          5507,
          9100,
          3081,
          3566,
          18684,
          22229,
          432,
          765,
          31270,
          5396,
          2513,
          2457,
          2347,
          1890,
          629,
          9406,
          21644,
          18436,
          8933,
          700,
          6871,
          159,
          1768,
          1176,
          1677,
          43174,
          927,
          51293,
          16552,
          456,
          14742,
          1763,
          4135,
          21141,
          165,
          2244,
          2528,
          297,
          4967,
          59694,
          2542,
          315,
          16670,
          20387,
          469,
          6273,
          104
         ]
        }
       ],
       "layout": {
        "barmode": "stack"
       }
      },
      "text/html": [
       "<div id=\"f0875259-bff0-4a4c-9cb8-93027bc2ea76\" style=\"height: 525px; width: 100%;\" class=\"plotly-graph-div\"></div><script type=\"text/javascript\">require([\"plotly\"], function(Plotly) { window.PLOTLYENV=window.PLOTLYENV || {};window.PLOTLYENV.BASE_URL=\"https://plot.ly\";Plotly.newPlot(\"f0875259-bff0-4a4c-9cb8-93027bc2ea76\", [{\"type\": \"bar\", \"x\": [\"Alabama\", \"Alaska\", \"Arizona\", \"Arkansas\", \"California\", \"Colorado\", \"Connecticut\", \"Delaware\", \"District Of Columbia\", \"Florida\", \"Georgia\", \"Hawaii\", \"Idaho\", \"Illinois\", \"Indiana\", \"Iowa\", \"Kansas\", \"Kentucky\", \"Louisiana\", \"Maine\", \"Maryland\", \"Massachusetts\", \"Michigan\", \"Minnesota\", \"Mississippi\", \"Missouri\", \"Montana\", \"Nebraska\", \"Nevada\", \"New Hampshire\", \"New Jersey\", \"New Mexico\", \"New York\", \"North Carolina\", \"North Dakota\", \"Ohio\", \"Oklahoma\", \"Oregon\", \"Pennsylvania\", \"Puerto Rico\", \"Rhode Island\", \"South Carolina\", \"South Dakota\", \"Tennessee\", \"Texas\", \"Utah\", \"Vermont\", \"Virginia\", \"Washington\", \"West Virginia\", \"Wisconsin\", \"Wyoming\"], \"y\": [1733, 154, 8692, 3057, 104070, 5507, 9100, 3081, 3566, 18684, 22229, 432, 765, 31270, 5396, 2513, 2457, 2347, 1890, 629, 9406, 21644, 18436, 8933, 700, 6871, 159, 1768, 1176, 1677, 43174, 927, 51293, 16552, 456, 14742, 1763, 4135, 21141, 165, 2244, 2528, 297, 4967, 59694, 2542, 315, 16670, 20387, 469, 6273, 104], \"name\": \"Ratios\"}], {\"barmode\": \"stack\"}, {\"showLink\": true, \"linkText\": \"Export to plot.ly\"})});</script>"
      ],
      "text/vnd.plotly.v1+html": [
       "<div id=\"f0875259-bff0-4a4c-9cb8-93027bc2ea76\" style=\"height: 525px; width: 100%;\" class=\"plotly-graph-div\"></div><script type=\"text/javascript\">require([\"plotly\"], function(Plotly) { window.PLOTLYENV=window.PLOTLYENV || {};window.PLOTLYENV.BASE_URL=\"https://plot.ly\";Plotly.newPlot(\"f0875259-bff0-4a4c-9cb8-93027bc2ea76\", [{\"type\": \"bar\", \"x\": [\"Alabama\", \"Alaska\", \"Arizona\", \"Arkansas\", \"California\", \"Colorado\", \"Connecticut\", \"Delaware\", \"District Of Columbia\", \"Florida\", \"Georgia\", \"Hawaii\", \"Idaho\", \"Illinois\", \"Indiana\", \"Iowa\", \"Kansas\", \"Kentucky\", \"Louisiana\", \"Maine\", \"Maryland\", \"Massachusetts\", \"Michigan\", \"Minnesota\", \"Mississippi\", \"Missouri\", \"Montana\", \"Nebraska\", \"Nevada\", \"New Hampshire\", \"New Jersey\", \"New Mexico\", \"New York\", \"North Carolina\", \"North Dakota\", \"Ohio\", \"Oklahoma\", \"Oregon\", \"Pennsylvania\", \"Puerto Rico\", \"Rhode Island\", \"South Carolina\", \"South Dakota\", \"Tennessee\", \"Texas\", \"Utah\", \"Vermont\", \"Virginia\", \"Washington\", \"West Virginia\", \"Wisconsin\", \"Wyoming\"], \"y\": [1733, 154, 8692, 3057, 104070, 5507, 9100, 3081, 3566, 18684, 22229, 432, 765, 31270, 5396, 2513, 2457, 2347, 1890, 629, 9406, 21644, 18436, 8933, 700, 6871, 159, 1768, 1176, 1677, 43174, 927, 51293, 16552, 456, 14742, 1763, 4135, 21141, 165, 2244, 2528, 297, 4967, 59694, 2542, 315, 16670, 20387, 469, 6273, 104], \"name\": \"Ratios\"}], {\"barmode\": \"stack\"}, {\"showLink\": true, \"linkText\": \"Export to plot.ly\"})});</script>"
      ]
     },
     "metadata": {},
     "output_type": "display_data"
    }
   ],
   "source": [
    "# Does the number of applications is the same when looked in proporion with with state population (per year)? \n",
    "h1b_frame_group = h1b_frame_with_states.loc[ h1b_frame_with_states['CASE_STATUS'] == 'CERTIFIED']\n",
    "h1b_frame_group = h1b_frame_group.loc[ h1b_frame_group['state'] != 'Na']\n",
    "h1b_frame_group = h1b_frame_group.loc[ h1b_frame_group['YEAR'] == 2016 ]\n",
    "h1b_frame_group = h1b_frame_group.groupby('state').count()\n",
    "population_estimates_frame = pd.read_csv(\"./data/population_est.csv\")\n",
    "\n",
    "h1b_frame_group['population 2016'] = 0 \n",
    "l = list(population_estimates_frame['2016'])\n",
    "h1b_frame_group['population 2016'] = l\n",
    "h1b_frame_group['ratio to population'] =  (h1b_frame_group['Unnamed: 0'] / h1b_frame_group['population 2016']) * 100\n",
    "\n",
    "X = h1b_frame_group.index.values\n",
    "Y = h1b_frame_group['ratio to population'].values.flatten()\n",
    "trace1 = go.Bar(\n",
    "    x=X,\n",
    "    y=Y,\n",
    "    name='Ratios'\n",
    ")\n",
    "\n",
    "data = [trace1]\n",
    "layout = go.Layout(\n",
    "    barmode='stack'\n",
    ")\n",
    "fig = go.Figure(data=data, layout=layout)\n",
    "iplot(fig, filename='grouped')\n",
    "\n",
    "\n",
    "#counts \n",
    "X = h1b_frame_group.index.values\n",
    "Y = h1b_frame_group['Unnamed: 0'].values.flatten()\n",
    "\n",
    "trace1 = go.Bar(\n",
    "    x=X,\n",
    "    y=Y,\n",
    "    name='Ratios'\n",
    ")\n",
    "\n",
    "data = [trace1]\n",
    "layout = go.Layout(\n",
    "    barmode='stack'\n",
    ")\n",
    "fig = go.Figure(data=data, layout=layout)\n",
    "iplot(fig, filename='grouped')\n",
    "\n"
   ]
  },
  {
   "cell_type": "markdown",
   "metadata": {},
   "source": [
    "--- \n",
    "### Wage Analysis\n",
    "\n",
    "Let's first take a look at the typical wage of the applicants. The wage that are sometimes reported are abnormally high. Therefore, we should exclude applicants that have a higher than normal wage. It is up to you to decide the cuttoff, we decided on $400,000. "
   ]
  },
  {
   "cell_type": "code",
   "execution_count": 25,
   "metadata": {
    "scrolled": true
   },
   "outputs": [],
   "source": [
    "df = h1b_frame[(h1b_frame['PREVAILING_WAGE'] < 400000) & (h1b_frame['CASE_STATUS'] == 'CERTIFIED')]\n",
    "df = df.dropna(axis=0, how='all')"
   ]
  },
  {
   "cell_type": "markdown",
   "metadata": {},
   "source": [
    "After this, the dataframe is pratically ready and we are ready for ploting histograms. The configuration fields here are optional to the use."
   ]
  },
  {
   "cell_type": "code",
   "execution_count": 26,
   "metadata": {
    "scrolled": true
   },
   "outputs": [
    {
     "data": {
      "image/png": "[encoded data removed]",
      "text/plain": [
       "<matplotlib.figure.Figure at 0x1121ecb00>"
      ]
     },
     "metadata": {},
     "output_type": "display_data"
    }
   ],
   "source": [
    "title = 'H-1B Salary From 2011 to 2016'\n",
    "\n",
    "with plt.style.context('fivethirtyeight'):\n",
    "    fig, ax = plt.subplots(1, 1, figsize=(10, 4))\n",
    "    ax.hist(df['PREVAILING_WAGE'], bins=200, edgecolor='#ffffff', color='#169630')\n",
    "\n",
    "ax.set_title(title)\n",
    "plt.xlim([15000, 200000])\n",
    "plt.xlabel('Salary',size=10)\n",
    "plt.ylabel('# of Applicants', size=20)\n",
    "\n",
    "# plt.savefig('../graphs/' + title + '.png') # Saving the generated graph\n",
    "plt.show()"
   ]
  },
  {
   "cell_type": "code",
   "execution_count": null,
   "metadata": {
    "scrolled": true
   },
   "outputs": [],
   "source": []
  }
 ],
 "metadata": {
  "kernelspec": {
   "display_name": "Python 3",
   "language": "python",
   "name": "python3"
  },
  "language_info": {
   "codemirror_mode": {
    "name": "ipython",
    "version": 3
   },
   "file_extension": ".py",
   "mimetype": "text/x-python",
   "name": "python",
   "nbconvert_exporter": "python",
   "pygments_lexer": "ipython3",
   "version": "3.6.3"
  }
 },
 "nbformat": 4,
 "nbformat_minor": 2
}
