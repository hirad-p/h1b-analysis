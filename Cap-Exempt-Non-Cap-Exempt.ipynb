{
 "cells": [
  {
   "cell_type": "code",
   "execution_count": 1,
   "metadata": {},
   "outputs": [
    {
     "data": {
      "text/html": [
       "<script>requirejs.config({paths: { 'plotly': ['https://cdn.plot.ly/plotly-latest.min']},});if(!window.Plotly) {{require(['plotly'],function(plotly) {window.Plotly=plotly;});}}</script>"
      ],
      "text/vnd.plotly.v1+html": [
       "<script>requirejs.config({paths: { 'plotly': ['https://cdn.plot.ly/plotly-latest.min']},});if(!window.Plotly) {{require(['plotly'],function(plotly) {window.Plotly=plotly;});}}</script>"
      ]
     },
     "metadata": {},
     "output_type": "display_data"
    }
   ],
   "source": [
    "# Put all the imports here\n",
    "import folium\n",
    "import numpy as np\n",
    "import pandas as pd\n",
    "import plotly as ply\n",
    "import plotly.plotly as py\n",
    "import plotly.figure_factory as ff\n",
    "import plotly.graph_objs as go\n",
    "\n",
    "from geopy.geocoders import Nominatim\n",
    "from matplotlib import pyplot as plt\n",
    "\n",
    "# Make plotly work in offline mode\n",
    "from plotly.offline import init_notebook_mode, plot, iplot\n",
    "init_notebook_mode(connected=True)"
   ]
  },
  {
   "cell_type": "code",
   "execution_count": 18,
   "metadata": {},
   "outputs": [],
   "source": [
    "h1b_frame = pd.read_csv('./data/h1b.csv') # dataset to large, please download from README.md"
   ]
  },
  {
   "cell_type": "code",
   "execution_count": 3,
   "metadata": {},
   "outputs": [],
   "source": [
    "h1b_frame_with_states = pd.read_csv(\"./data/h1b_with_states.csv\")"
   ]
  },
  {
   "cell_type": "code",
   "execution_count": 99,
   "metadata": {},
   "outputs": [],
   "source": [
    "cap_exampt_employee_list = pd.read_csv(\"./data/cap-exampt-employee-list.csv\", encoding=\"ISO-8859-1\")\n",
    "cap_exampt_employee_list = list(cap_exampt_employee_list['employeer'])\n",
    "cap_exampt_employee_list.append('university')\n",
    "cap_exampt_employee_list.append('college')"
   ]
  },
  {
   "cell_type": "code",
   "execution_count": 100,
   "metadata": {},
   "outputs": [
    {
     "name": "stderr",
     "output_type": "stream",
     "text": [
      "/usr/local/Cellar/python3/3.6.3/Frameworks/Python.framework/Versions/3.6/lib/python3.6/site-packages/ipykernel_launcher.py:4: UserWarning:\n",
      "\n",
      "This pattern has match groups. To actually get the groups, use str.extract.\n",
      "\n"
     ]
    }
   ],
   "source": [
    "h1b_frame_group = h1b_frame_with_states.loc[ h1b_frame_with_states['CASE_STATUS'] == 'CERTIFIED']\n",
    "h1b_frame_group = h1b_frame_group.loc[ h1b_frame_group['state'] != 'Na']\n",
    "h1b_frame_group = h1b_frame_group.loc[ h1b_frame_group['YEAR'] == 2016 ]\n",
    "h1b_frame_group_exempt = h1b_frame_group.loc[ h1b_frame_group['EMPLOYER_NAME'].str.contains('|'.join(cap_exampt_employee_list), case=False, na=False, regex=True) ]"
   ]
  },
  {
   "cell_type": "code",
   "execution_count": 101,
   "metadata": {},
   "outputs": [],
   "source": [
    "cap_exempt = h1b_frame_group_exempt.count()['Unnamed: 0']\n",
    "total = h1b_frame_group.count()['Unnamed: 0']\n",
    "non_cap_exempt = total - cap_exempt"
   ]
  },
  {
   "cell_type": "code",
   "execution_count": 102,
   "metadata": {},
   "outputs": [
    {
     "data": {
      "text/plain": [
       "4.3200744931304689"
      ]
     },
     "execution_count": 102,
     "metadata": {},
     "output_type": "execute_result"
    }
   ],
   "source": [
    "cap_exempt/total * 100"
   ]
  },
  {
   "cell_type": "code",
   "execution_count": 103,
   "metadata": {},
   "outputs": [
    {
     "data": {
      "application/vnd.plotly.v1+json": {
       "data": [
        {
         "labels": [
          "Cap Exempt",
          "Cap Non-exempt"
         ],
         "type": "pie",
         "values": [
          24589,
          544591
         ]
        }
       ],
       "layout": {}
      },
      "text/html": [
       "<div id=\"cfb0866a-72f9-4082-9d37-f98a9be818db\" style=\"height: 525px; width: 100%;\" class=\"plotly-graph-div\"></div><script type=\"text/javascript\">require([\"plotly\"], function(Plotly) { window.PLOTLYENV=window.PLOTLYENV || {};window.PLOTLYENV.BASE_URL=\"https://plot.ly\";Plotly.newPlot(\"cfb0866a-72f9-4082-9d37-f98a9be818db\", [{\"type\": \"pie\", \"labels\": [\"Cap Exempt\", \"Cap Non-exempt\"], \"values\": [24589, 544591]}], {}, {\"showLink\": true, \"linkText\": \"Export to plot.ly\"})});</script>"
      ],
      "text/vnd.plotly.v1+html": [
       "<div id=\"cfb0866a-72f9-4082-9d37-f98a9be818db\" style=\"height: 525px; width: 100%;\" class=\"plotly-graph-div\"></div><script type=\"text/javascript\">require([\"plotly\"], function(Plotly) { window.PLOTLYENV=window.PLOTLYENV || {};window.PLOTLYENV.BASE_URL=\"https://plot.ly\";Plotly.newPlot(\"cfb0866a-72f9-4082-9d37-f98a9be818db\", [{\"type\": \"pie\", \"labels\": [\"Cap Exempt\", \"Cap Non-exempt\"], \"values\": [24589, 544591]}], {}, {\"showLink\": true, \"linkText\": \"Export to plot.ly\"})});</script>"
      ]
     },
     "metadata": {},
     "output_type": "display_data"
    }
   ],
   "source": [
    "labels = ['Cap Exempt', 'Cap Non-exempt']\n",
    "values = [cap_exempt, non_cap_exempt]\n",
    "\n",
    "trace = go.Pie(labels=labels, values=values)\n",
    "iplot([trace], filename='basic_pie_chart')"
   ]
  },
  {
   "cell_type": "code",
   "execution_count": 104,
   "metadata": {},
   "outputs": [
    {
     "name": "stderr",
     "output_type": "stream",
     "text": [
      "/usr/local/Cellar/python3/3.6.3/Frameworks/Python.framework/Versions/3.6/lib/python3.6/site-packages/ipykernel_launcher.py:4: UserWarning:\n",
      "\n",
      "This pattern has match groups. To actually get the groups, use str.extract.\n",
      "\n"
     ]
    }
   ],
   "source": [
    "h1b_frame_group = h1b_frame_with_states.loc[ h1b_frame_with_states['CASE_STATUS'] == 'CERTIFIED']\n",
    "h1b_frame_group = h1b_frame_group.loc[ h1b_frame_group['state'] != 'Na']\n",
    "h1b_frame_group = h1b_frame_group.loc[ h1b_frame_group['YEAR'] == 2015 ]\n",
    "h1b_frame_group_exempt = h1b_frame_group.loc[ h1b_frame_group['EMPLOYER_NAME'].str.contains('|'.join(cap_exampt_employee_list), case=False, na=False, regex=True) ]"
   ]
  },
  {
   "cell_type": "code",
   "execution_count": null,
   "metadata": {},
   "outputs": [],
   "source": [
    "cap_exempt = h1b_frame_group_exempt.count()['Unnamed: 0']\n",
    "total = h1b_frame_group.count()['Unnamed: 0']\n",
    "non_cap_exempt = total - cap_exempt\n",
    "\n",
    "labels = ['Cap Exempt', 'Cap Non-exempt']\n",
    "values = [cap_exempt, non_cap_exempt]\n",
    "\n",
    "trace = go.Pie(labels=labels, values=values)\n",
    "iplot([trace], filename='basic_pie_chart')"
   ]
  }
 ],
 "metadata": {
  "kernelspec": {
   "display_name": "Python 3",
   "language": "python",
   "name": "python3"
  },
  "language_info": {
   "codemirror_mode": {
    "name": "ipython",
    "version": 3
   },
   "file_extension": ".py",
   "mimetype": "text/x-python",
   "name": "python",
   "nbconvert_exporter": "python",
   "pygments_lexer": "ipython3",
   "version": "3.6.3"
  }
 },
 "nbformat": 4,
 "nbformat_minor": 2
}
