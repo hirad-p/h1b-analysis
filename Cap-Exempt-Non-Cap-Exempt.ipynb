{
 "cells": [
  {
   "cell_type": "code",
   "execution_count": 1,
   "metadata": {},
   "outputs": [
    {
     "data": {
      "text/html": [
       "<script>requirejs.config({paths: { 'plotly': ['https://cdn.plot.ly/plotly-latest.min']},});if(!window.Plotly) {{require(['plotly'],function(plotly) {window.Plotly=plotly;});}}</script>"
      ],
      "text/vnd.plotly.v1+html": [
       "<script>requirejs.config({paths: { 'plotly': ['https://cdn.plot.ly/plotly-latest.min']},});if(!window.Plotly) {{require(['plotly'],function(plotly) {window.Plotly=plotly;});}}</script>"
      ]
     },
     "metadata": {},
     "output_type": "display_data"
    }
   ],
   "source": [
    "# Put all the imports here\n",
    "import folium\n",
    "import numpy as np\n",
    "import pandas as pd\n",
    "import plotly as ply\n",
    "import plotly.plotly as py\n",
    "import plotly.figure_factory as ff\n",
    "import plotly.graph_objs as go\n",
    "\n",
    "from geopy.geocoders import Nominatim\n",
    "from matplotlib import pyplot as plt\n",
    "\n",
    "# Make plotly work in offline mode\n",
    "from plotly.offline import init_notebook_mode, plot, iplot\n",
    "init_notebook_mode(connected=True)"
   ]
  },
  {
   "cell_type": "code",
   "execution_count": 18,
   "metadata": {},
   "outputs": [],
   "source": [
    "h1b_frame = pd.read_csv('./data/h1b.csv') # dataset to large, please download from README.md"
   ]
  },
  {
   "cell_type": "code",
   "execution_count": 3,
   "metadata": {},
   "outputs": [],
   "source": [
    "h1b_frame_with_states = pd.read_csv(\"./data/h1b_with_states.csv\")"
   ]
  },
  {
   "cell_type": "code",
   "execution_count": 99,
   "metadata": {},
   "outputs": [],
   "source": [
    "cap_exampt_employee_list = pd.read_csv(\"./data/cap-exampt-employee-list.csv\", encoding=\"ISO-8859-1\")\n",
    "cap_exampt_employee_list = list(cap_exampt_employee_list['employeer'])\n",
    "cap_exampt_employee_list.append('university')\n",
    "cap_exampt_employee_list.append('college')"
   ]
  },
  {
   "cell_type": "code",
   "execution_count": 117,
   "metadata": {},
   "outputs": [
    {
     "name": "stderr",
     "output_type": "stream",
     "text": [
      "/usr/local/Cellar/python3/3.6.3/Frameworks/Python.framework/Versions/3.6/lib/python3.6/site-packages/ipykernel_launcher.py:8: UserWarning:\n",
      "\n",
      "This pattern has match groups. To actually get the groups, use str.extract.\n",
      "\n"
     ]
    }
   ],
   "source": [
    "years = [2011, 2012, 2013, 2014, 2015, 2016]\n",
    "cap_exempt_counts = []\n",
    "\n",
    "for y in years: \n",
    "    h1b_frame_group = h1b_frame_with_states.loc[ h1b_frame_with_states['CASE_STATUS'] == 'CERTIFIED']\n",
    "    h1b_frame_group = h1b_frame_group.loc[ h1b_frame_group['state'] != 'Na']\n",
    "    h1b_frame_group = h1b_frame_group.loc[ h1b_frame_group['YEAR'] == y ]\n",
    "    h1b_frame_group_exempt = h1b_frame_group.loc[ h1b_frame_group['EMPLOYER_NAME'].str.contains('|'.join(cap_exampt_employee_list), case=False, na=False, regex=True) ]\n",
    "    cap_exempt = h1b_frame_group_exempt.count()['Unnamed: 0']\n",
    "    cap_exempt_counts.append(cap_exempt)"
   ]
  },
  {
   "cell_type": "code",
   "execution_count": 122,
   "metadata": {},
   "outputs": [],
   "source": [
    "years = [2011, 2012, 2013, 2014, 2015, 2016]\n",
    "total_counts = []\n",
    "\n",
    "for y in years: \n",
    "    h1b_frame_group = h1b_frame_with_states.loc[ h1b_frame_with_states['CASE_STATUS'] == 'CERTIFIED']\n",
    "    h1b_frame_group = h1b_frame_group.loc[ h1b_frame_group['state'] != 'Na']\n",
    "    h1b_frame_group = h1b_frame_group.loc[ h1b_frame_group['YEAR'] == y ]\n",
    "    total_count = h1b_frame_group.count()['Unnamed: 0']\n",
    "    total_counts.append(total_count)"
   ]
  },
  {
   "cell_type": "code",
   "execution_count": 127,
   "metadata": {},
   "outputs": [],
   "source": [
    "# copying result so it is easier to use later\n",
    "years = [2011, 2012, 2013, 2014, 2015, 2016]\n",
    "cap_exempt_counts = [25475, 24167, 23244, 23873, 24683, 24589]\n",
    "total_counts = [307581, 352169, 382590, 454738, 546705, 569180]\n",
    "non_cap_exempt = [282106, 328002, 359346, 430865, 522022, 544591]"
   ]
  },
  {
   "cell_type": "code",
   "execution_count": 182,
   "metadata": {},
   "outputs": [
    {
     "data": {
      "application/vnd.plotly.v1+json": {
       "data": [
        {
         "labels": [
          "Cap Exempt",
          "Cap Non-exempt"
         ],
         "name": 2011,
         "type": "pie",
         "values": [
          25475,
          282106
         ]
        }
       ],
       "layout": {
        "title": "Cap Exempt vs Cap Non-Exempt in 2011"
       }
      },
      "text/html": [
       "<div id=\"8c4e434c-ef45-4d66-929a-8194d1c16a98\" style=\"height: 525px; width: 100%;\" class=\"plotly-graph-div\"></div><script type=\"text/javascript\">require([\"plotly\"], function(Plotly) { window.PLOTLYENV=window.PLOTLYENV || {};window.PLOTLYENV.BASE_URL=\"https://plot.ly\";Plotly.newPlot(\"8c4e434c-ef45-4d66-929a-8194d1c16a98\", [{\"type\": \"pie\", \"values\": [25475, 282106], \"labels\": [\"Cap Exempt\", \"Cap Non-exempt\"], \"name\": 2011}], {\"title\": \"Cap Exempt vs Cap Non-Exempt in 2011\"}, {\"showLink\": true, \"linkText\": \"Export to plot.ly\"})});</script>"
      ],
      "text/vnd.plotly.v1+html": [
       "<div id=\"8c4e434c-ef45-4d66-929a-8194d1c16a98\" style=\"height: 525px; width: 100%;\" class=\"plotly-graph-div\"></div><script type=\"text/javascript\">require([\"plotly\"], function(Plotly) { window.PLOTLYENV=window.PLOTLYENV || {};window.PLOTLYENV.BASE_URL=\"https://plot.ly\";Plotly.newPlot(\"8c4e434c-ef45-4d66-929a-8194d1c16a98\", [{\"type\": \"pie\", \"values\": [25475, 282106], \"labels\": [\"Cap Exempt\", \"Cap Non-exempt\"], \"name\": 2011}], {\"title\": \"Cap Exempt vs Cap Non-Exempt in 2011\"}, {\"showLink\": true, \"linkText\": \"Export to plot.ly\"})});</script>"
      ]
     },
     "metadata": {},
     "output_type": "display_data"
    },
    {
     "data": {
      "application/vnd.plotly.v1+json": {
       "data": [
        {
         "labels": [
          "Cap Exempt",
          "Cap Non-exempt"
         ],
         "name": 2012,
         "type": "pie",
         "values": [
          24167,
          328002
         ]
        }
       ],
       "layout": {
        "title": "Cap Exempt vs Cap Non-Exempt in 2012"
       }
      },
      "text/html": [
       "<div id=\"487cb744-b341-4bfb-b9c4-9a7c990356bc\" style=\"height: 525px; width: 100%;\" class=\"plotly-graph-div\"></div><script type=\"text/javascript\">require([\"plotly\"], function(Plotly) { window.PLOTLYENV=window.PLOTLYENV || {};window.PLOTLYENV.BASE_URL=\"https://plot.ly\";Plotly.newPlot(\"487cb744-b341-4bfb-b9c4-9a7c990356bc\", [{\"type\": \"pie\", \"values\": [24167, 328002], \"labels\": [\"Cap Exempt\", \"Cap Non-exempt\"], \"name\": 2012}], {\"title\": \"Cap Exempt vs Cap Non-Exempt in 2012\"}, {\"showLink\": true, \"linkText\": \"Export to plot.ly\"})});</script>"
      ],
      "text/vnd.plotly.v1+html": [
       "<div id=\"487cb744-b341-4bfb-b9c4-9a7c990356bc\" style=\"height: 525px; width: 100%;\" class=\"plotly-graph-div\"></div><script type=\"text/javascript\">require([\"plotly\"], function(Plotly) { window.PLOTLYENV=window.PLOTLYENV || {};window.PLOTLYENV.BASE_URL=\"https://plot.ly\";Plotly.newPlot(\"487cb744-b341-4bfb-b9c4-9a7c990356bc\", [{\"type\": \"pie\", \"values\": [24167, 328002], \"labels\": [\"Cap Exempt\", \"Cap Non-exempt\"], \"name\": 2012}], {\"title\": \"Cap Exempt vs Cap Non-Exempt in 2012\"}, {\"showLink\": true, \"linkText\": \"Export to plot.ly\"})});</script>"
      ]
     },
     "metadata": {},
     "output_type": "display_data"
    },
    {
     "data": {
      "application/vnd.plotly.v1+json": {
       "data": [
        {
         "labels": [
          "Cap Exempt",
          "Cap Non-exempt"
         ],
         "name": 2013,
         "type": "pie",
         "values": [
          23244,
          359346
         ]
        }
       ],
       "layout": {
        "title": "Cap Exempt vs Cap Non-Exempt in 2013"
       }
      },
      "text/html": [
       "<div id=\"ac7096f3-d663-4835-b56a-bc8dc4d0b988\" style=\"height: 525px; width: 100%;\" class=\"plotly-graph-div\"></div><script type=\"text/javascript\">require([\"plotly\"], function(Plotly) { window.PLOTLYENV=window.PLOTLYENV || {};window.PLOTLYENV.BASE_URL=\"https://plot.ly\";Plotly.newPlot(\"ac7096f3-d663-4835-b56a-bc8dc4d0b988\", [{\"type\": \"pie\", \"values\": [23244, 359346], \"labels\": [\"Cap Exempt\", \"Cap Non-exempt\"], \"name\": 2013}], {\"title\": \"Cap Exempt vs Cap Non-Exempt in 2013\"}, {\"showLink\": true, \"linkText\": \"Export to plot.ly\"})});</script>"
      ],
      "text/vnd.plotly.v1+html": [
       "<div id=\"ac7096f3-d663-4835-b56a-bc8dc4d0b988\" style=\"height: 525px; width: 100%;\" class=\"plotly-graph-div\"></div><script type=\"text/javascript\">require([\"plotly\"], function(Plotly) { window.PLOTLYENV=window.PLOTLYENV || {};window.PLOTLYENV.BASE_URL=\"https://plot.ly\";Plotly.newPlot(\"ac7096f3-d663-4835-b56a-bc8dc4d0b988\", [{\"type\": \"pie\", \"values\": [23244, 359346], \"labels\": [\"Cap Exempt\", \"Cap Non-exempt\"], \"name\": 2013}], {\"title\": \"Cap Exempt vs Cap Non-Exempt in 2013\"}, {\"showLink\": true, \"linkText\": \"Export to plot.ly\"})});</script>"
      ]
     },
     "metadata": {},
     "output_type": "display_data"
    },
    {
     "data": {
      "application/vnd.plotly.v1+json": {
       "data": [
        {
         "labels": [
          "Cap Exempt",
          "Cap Non-exempt"
         ],
         "name": 2014,
         "type": "pie",
         "values": [
          23873,
          430865
         ]
        }
       ],
       "layout": {
        "title": "Cap Exempt vs Cap Non-Exempt in 2014"
       }
      },
      "text/html": [
       "<div id=\"14142d3c-2c0d-4a91-a39c-e70ac64fe42b\" style=\"height: 525px; width: 100%;\" class=\"plotly-graph-div\"></div><script type=\"text/javascript\">require([\"plotly\"], function(Plotly) { window.PLOTLYENV=window.PLOTLYENV || {};window.PLOTLYENV.BASE_URL=\"https://plot.ly\";Plotly.newPlot(\"14142d3c-2c0d-4a91-a39c-e70ac64fe42b\", [{\"type\": \"pie\", \"values\": [23873, 430865], \"labels\": [\"Cap Exempt\", \"Cap Non-exempt\"], \"name\": 2014}], {\"title\": \"Cap Exempt vs Cap Non-Exempt in 2014\"}, {\"showLink\": true, \"linkText\": \"Export to plot.ly\"})});</script>"
      ],
      "text/vnd.plotly.v1+html": [
       "<div id=\"14142d3c-2c0d-4a91-a39c-e70ac64fe42b\" style=\"height: 525px; width: 100%;\" class=\"plotly-graph-div\"></div><script type=\"text/javascript\">require([\"plotly\"], function(Plotly) { window.PLOTLYENV=window.PLOTLYENV || {};window.PLOTLYENV.BASE_URL=\"https://plot.ly\";Plotly.newPlot(\"14142d3c-2c0d-4a91-a39c-e70ac64fe42b\", [{\"type\": \"pie\", \"values\": [23873, 430865], \"labels\": [\"Cap Exempt\", \"Cap Non-exempt\"], \"name\": 2014}], {\"title\": \"Cap Exempt vs Cap Non-Exempt in 2014\"}, {\"showLink\": true, \"linkText\": \"Export to plot.ly\"})});</script>"
      ]
     },
     "metadata": {},
     "output_type": "display_data"
    },
    {
     "data": {
      "application/vnd.plotly.v1+json": {
       "data": [
        {
         "labels": [
          "Cap Exempt",
          "Cap Non-exempt"
         ],
         "name": 2015,
         "type": "pie",
         "values": [
          24683,
          522022
         ]
        }
       ],
       "layout": {
        "title": "Cap Exempt vs Cap Non-Exempt in 2015"
       }
      },
      "text/html": [
       "<div id=\"622f5139-3f5c-41b5-9a19-b99a75626188\" style=\"height: 525px; width: 100%;\" class=\"plotly-graph-div\"></div><script type=\"text/javascript\">require([\"plotly\"], function(Plotly) { window.PLOTLYENV=window.PLOTLYENV || {};window.PLOTLYENV.BASE_URL=\"https://plot.ly\";Plotly.newPlot(\"622f5139-3f5c-41b5-9a19-b99a75626188\", [{\"type\": \"pie\", \"values\": [24683, 522022], \"labels\": [\"Cap Exempt\", \"Cap Non-exempt\"], \"name\": 2015}], {\"title\": \"Cap Exempt vs Cap Non-Exempt in 2015\"}, {\"showLink\": true, \"linkText\": \"Export to plot.ly\"})});</script>"
      ],
      "text/vnd.plotly.v1+html": [
       "<div id=\"622f5139-3f5c-41b5-9a19-b99a75626188\" style=\"height: 525px; width: 100%;\" class=\"plotly-graph-div\"></div><script type=\"text/javascript\">require([\"plotly\"], function(Plotly) { window.PLOTLYENV=window.PLOTLYENV || {};window.PLOTLYENV.BASE_URL=\"https://plot.ly\";Plotly.newPlot(\"622f5139-3f5c-41b5-9a19-b99a75626188\", [{\"type\": \"pie\", \"values\": [24683, 522022], \"labels\": [\"Cap Exempt\", \"Cap Non-exempt\"], \"name\": 2015}], {\"title\": \"Cap Exempt vs Cap Non-Exempt in 2015\"}, {\"showLink\": true, \"linkText\": \"Export to plot.ly\"})});</script>"
      ]
     },
     "metadata": {},
     "output_type": "display_data"
    },
    {
     "data": {
      "application/vnd.plotly.v1+json": {
       "data": [
        {
         "labels": [
          "Cap Exempt",
          "Cap Non-exempt"
         ],
         "name": 2016,
         "type": "pie",
         "values": [
          24589,
          544591
         ]
        }
       ],
       "layout": {
        "title": "Cap Exempt vs Cap Non-Exempt in 2016"
       }
      },
      "text/html": [
       "<div id=\"ac428c28-0958-4168-9484-004f701b9b80\" style=\"height: 525px; width: 100%;\" class=\"plotly-graph-div\"></div><script type=\"text/javascript\">require([\"plotly\"], function(Plotly) { window.PLOTLYENV=window.PLOTLYENV || {};window.PLOTLYENV.BASE_URL=\"https://plot.ly\";Plotly.newPlot(\"ac428c28-0958-4168-9484-004f701b9b80\", [{\"type\": \"pie\", \"values\": [24589, 544591], \"labels\": [\"Cap Exempt\", \"Cap Non-exempt\"], \"name\": 2016}], {\"title\": \"Cap Exempt vs Cap Non-Exempt in 2016\"}, {\"showLink\": true, \"linkText\": \"Export to plot.ly\"})});</script>"
      ],
      "text/vnd.plotly.v1+html": [
       "<div id=\"ac428c28-0958-4168-9484-004f701b9b80\" style=\"height: 525px; width: 100%;\" class=\"plotly-graph-div\"></div><script type=\"text/javascript\">require([\"plotly\"], function(Plotly) { window.PLOTLYENV=window.PLOTLYENV || {};window.PLOTLYENV.BASE_URL=\"https://plot.ly\";Plotly.newPlot(\"ac428c28-0958-4168-9484-004f701b9b80\", [{\"type\": \"pie\", \"values\": [24589, 544591], \"labels\": [\"Cap Exempt\", \"Cap Non-exempt\"], \"name\": 2016}], {\"title\": \"Cap Exempt vs Cap Non-Exempt in 2016\"}, {\"showLink\": true, \"linkText\": \"Export to plot.ly\"})});</script>"
      ]
     },
     "metadata": {},
     "output_type": "display_data"
    }
   ],
   "source": [
    "labels = ['Cap Exempt', 'Cap Non-exempt']\n",
    "\n",
    "for i in range(0, len(cap_exempt_counts)):\n",
    "    layout = {\n",
    "        \"title\" : (\"Cap Exempt vs Cap Non-Exempt in %s\" % years[i]),\n",
    "    }\n",
    "    \n",
    "    data = {\n",
    "        \"values\":[cap_exempt_counts[i], non_cap_exempt[i]],\n",
    "        \"labels\":labels,\n",
    "        \"name\": years[i],\n",
    "        \"type\": \"pie\",\n",
    "    }\n",
    "\n",
    "    fig = go.Figure(\n",
    "        data=[data], \n",
    "        layout=layout\n",
    "    )\n",
    "    \n",
    "    iplot(fig, filename='donut')"
   ]
  },
  {
   "cell_type": "code",
   "execution_count": null,
   "metadata": {},
   "outputs": [],
   "source": []
  },
  {
   "cell_type": "code",
   "execution_count": null,
   "metadata": {},
   "outputs": [],
   "source": []
  },
  {
   "cell_type": "code",
   "execution_count": null,
   "metadata": {},
   "outputs": [],
   "source": []
  },
  {
   "cell_type": "code",
   "execution_count": null,
   "metadata": {},
   "outputs": [],
   "source": []
  }
 ],
 "metadata": {
  "kernelspec": {
   "display_name": "Python 3",
   "language": "python",
   "name": "python3"
  },
  "language_info": {
   "codemirror_mode": {
    "name": "ipython",
    "version": 3
   },
   "file_extension": ".py",
   "mimetype": "text/x-python",
   "name": "python",
   "nbconvert_exporter": "python",
   "pygments_lexer": "ipython3",
   "version": "3.6.3"
  }
 },
 "nbformat": 4,
 "nbformat_minor": 2
}
